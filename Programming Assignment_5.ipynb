{
 "cells": [
  {
   "cell_type": "markdown",
   "id": "d22e3a6f",
   "metadata": {},
   "source": [
    "## Programming Assignment_5"
   ]
  },
  {
   "cell_type": "markdown",
   "id": "3af4cc30",
   "metadata": {},
   "source": [
    "1. Write a Python Program to Find LCM?"
   ]
  },
  {
   "cell_type": "code",
   "execution_count": 9,
   "id": "0c3b01da",
   "metadata": {},
   "outputs": [],
   "source": [
    "def lcm_find(x,y):\n",
    "    \"\"\"This function can find the LCM for two integer.\"\"\"\n",
    "    if x > y:\n",
    "        greater = x\n",
    "    else:\n",
    "        greater = y\n",
    "    while True:\n",
    "        if((greater%x == 0) and (greater%y == 0)):\n",
    "            lcm = greater\n",
    "            break\n",
    "        else:\n",
    "            greater +=1\n",
    "    return lcm"
   ]
  },
  {
   "cell_type": "code",
   "execution_count": 10,
   "id": "1eb383a7",
   "metadata": {},
   "outputs": [
    {
     "data": {
      "text/plain": [
       "10"
      ]
     },
     "execution_count": 10,
     "metadata": {},
     "output_type": "execute_result"
    }
   ],
   "source": [
    "lcm_find(5,2)"
   ]
  },
  {
   "cell_type": "code",
   "execution_count": 11,
   "id": "9edf593a",
   "metadata": {},
   "outputs": [
    {
     "data": {
      "text/plain": [
       "30"
      ]
     },
     "execution_count": 11,
     "metadata": {},
     "output_type": "execute_result"
    }
   ],
   "source": [
    "lcm_find(30,2)"
   ]
  },
  {
   "cell_type": "code",
   "execution_count": 12,
   "id": "1ef9617b",
   "metadata": {},
   "outputs": [
    {
     "data": {
      "text/plain": [
       "10100"
      ]
     },
     "execution_count": 12,
     "metadata": {},
     "output_type": "execute_result"
    }
   ],
   "source": [
    "lcm_find(100,101)"
   ]
  },
  {
   "cell_type": "markdown",
   "id": "41d337f6",
   "metadata": {},
   "source": [
    "________________________________________________________________________"
   ]
  },
  {
   "cell_type": "markdown",
   "id": "806735c5",
   "metadata": {},
   "source": [
    "2. Write a Python Program to Find HCF?"
   ]
  },
  {
   "cell_type": "code",
   "execution_count": 19,
   "id": "3e189a1a",
   "metadata": {},
   "outputs": [],
   "source": [
    "def hcf_find(x,y):\n",
    "    \"\"\"This function helps us to find the HCF of two given numbers.\"\"\"\n",
    "    if x>y:\n",
    "        smaller = y\n",
    "    else:\n",
    "        smaller = x\n",
    "    for i in range(1,smaller+1):\n",
    "        if((x % i == 0) and (y % i == 0)):\n",
    "            hcf =i\n",
    "    return hcf"
   ]
  },
  {
   "cell_type": "code",
   "execution_count": 20,
   "id": "b8b57b40",
   "metadata": {},
   "outputs": [
    {
     "data": {
      "text/plain": [
       "2"
      ]
     },
     "execution_count": 20,
     "metadata": {},
     "output_type": "execute_result"
    }
   ],
   "source": [
    "hcf_find(2,4)"
   ]
  },
  {
   "cell_type": "code",
   "execution_count": 21,
   "id": "21fe8c07",
   "metadata": {},
   "outputs": [
    {
     "data": {
      "text/plain": [
       "7"
      ]
     },
     "execution_count": 21,
     "metadata": {},
     "output_type": "execute_result"
    }
   ],
   "source": [
    "hcf_find(21,14)"
   ]
  },
  {
   "cell_type": "code",
   "execution_count": 22,
   "id": "a7a515a5",
   "metadata": {},
   "outputs": [
    {
     "data": {
      "text/plain": [
       "1"
      ]
     },
     "execution_count": 22,
     "metadata": {},
     "output_type": "execute_result"
    }
   ],
   "source": [
    "hcf_find(11,20)"
   ]
  },
  {
   "cell_type": "markdown",
   "id": "c3db1acd",
   "metadata": {},
   "source": [
    "________________________________________________________________"
   ]
  },
  {
   "cell_type": "markdown",
   "id": "b723b7c6",
   "metadata": {},
   "source": [
    "3. Write a Python Program to Convert Decimal to Binary, Octal and Hexadecimal?"
   ]
  },
  {
   "cell_type": "code",
   "execution_count": 37,
   "id": "7c84f253",
   "metadata": {},
   "outputs": [],
   "source": [
    "def converter(x,type_we_want):\n",
    "    \"\"\"This function can convert a number into binary , octal and hexadecimal types only.\"\"\"\n",
    "    if type_we_want==\"binary\":\n",
    "        return bin(x)\n",
    "    elif type_we_want==\"octal\":\n",
    "        return oct(x)\n",
    "    elif type_we_want==\"hexadecimal\":\n",
    "        return hex(x)"
   ]
  },
  {
   "cell_type": "code",
   "execution_count": 38,
   "id": "6b1c9557",
   "metadata": {},
   "outputs": [
    {
     "data": {
      "text/plain": [
       "'0b1000110000111'"
      ]
     },
     "execution_count": 38,
     "metadata": {},
     "output_type": "execute_result"
    }
   ],
   "source": [
    "converter(4487,\"binary\")"
   ]
  },
  {
   "cell_type": "code",
   "execution_count": 39,
   "id": "bfcc932e",
   "metadata": {},
   "outputs": [
    {
     "data": {
      "text/plain": [
       "'0x8627'"
      ]
     },
     "execution_count": 39,
     "metadata": {},
     "output_type": "execute_result"
    }
   ],
   "source": [
    "converter(34343,\"hexadecimal\")"
   ]
  },
  {
   "cell_type": "code",
   "execution_count": 40,
   "id": "0ec33196",
   "metadata": {},
   "outputs": [
    {
     "data": {
      "text/plain": [
       "'0o164203'"
      ]
     },
     "execution_count": 40,
     "metadata": {},
     "output_type": "execute_result"
    }
   ],
   "source": [
    "converter(59523,\"octal\")"
   ]
  },
  {
   "cell_type": "markdown",
   "id": "6484f665",
   "metadata": {},
   "source": [
    "______________________________________________________________"
   ]
  },
  {
   "cell_type": "markdown",
   "id": "1ab087b1",
   "metadata": {},
   "source": [
    "4. Write a Python Program To Find ASCII value of a character?"
   ]
  },
  {
   "cell_type": "code",
   "execution_count": 43,
   "id": "196b8c3f",
   "metadata": {},
   "outputs": [],
   "source": [
    "def conversion_char_to_ASCII(x):\n",
    "    \"\"\"This function can convert ASCII value of a given character\"\"\"\n",
    "    if len(x) > 1:\n",
    "        return'Please enter only single character'\n",
    "    else:\n",
    "        return ord(x)"
   ]
  },
  {
   "cell_type": "code",
   "execution_count": 44,
   "id": "14cb83d3",
   "metadata": {},
   "outputs": [
    {
     "data": {
      "text/plain": [
       "102"
      ]
     },
     "execution_count": 44,
     "metadata": {},
     "output_type": "execute_result"
    }
   ],
   "source": [
    "conversion_char_to_ASCII(\"f\")"
   ]
  },
  {
   "cell_type": "code",
   "execution_count": 45,
   "id": "a2d1754b",
   "metadata": {},
   "outputs": [
    {
     "data": {
      "text/plain": [
       "38"
      ]
     },
     "execution_count": 45,
     "metadata": {},
     "output_type": "execute_result"
    }
   ],
   "source": [
    "conversion_char_to_ASCII(\"&\")"
   ]
  },
  {
   "cell_type": "code",
   "execution_count": 46,
   "id": "196d7cf9",
   "metadata": {},
   "outputs": [
    {
     "data": {
      "text/plain": [
       "'Please enter only single character'"
      ]
     },
     "execution_count": 46,
     "metadata": {},
     "output_type": "execute_result"
    }
   ],
   "source": [
    "conversion_char_to_ASCII(\"fgf\")"
   ]
  },
  {
   "cell_type": "markdown",
   "id": "cfadaecc",
   "metadata": {},
   "source": [
    "____________________________________________________________"
   ]
  },
  {
   "cell_type": "markdown",
   "id": "4150e1f0",
   "metadata": {},
   "source": [
    "5. Write a Python Program to Make a Simple Calculator with 4 basic mathematical operations?"
   ]
  },
  {
   "cell_type": "code",
   "execution_count": 71,
   "id": "0f9e1141",
   "metadata": {},
   "outputs": [],
   "source": [
    "def calculator():\n",
    "    \"\"\"This is a simple calculator which can calculate addition, substraction, multiplication and division of two number.\"\"\"\n",
    "    print(\"welcome to pp_calculator\")\n",
    "    print(\"=\"*40)\n",
    "    while True:\n",
    "        purpose=input(\"what do you want to do(add,mul,div,sub,close) :\")\n",
    "        if purpose==\"close\":\n",
    "            print(\"caculator is stopped successfully.\")\n",
    "            break\n",
    "        else:\n",
    "            first_num=eval(input(\"Enter the first number:\"))\n",
    "            sec_num=eval(input(\"Enter the second number:\"))\n",
    "\n",
    "            if purpose==\"add\":\n",
    "                print(\"Result is \", first_num+sec_num)\n",
    "                print(\"=\"*40)\n",
    "            elif purpose==\"mul\":\n",
    "                print(\"Result is \", first_num*sec_num)\n",
    "                print(\"=\"*40)\n",
    "            elif purpose==\"div\":\n",
    "                print(\"Result is \", first_num/sec_num)\n",
    "                print(\"=\"*40)\n",
    "            elif purpose==\"sub\":\n",
    "                print(\"Result is \", first_num-sec_num)\n",
    "                print(\"=\"*40)"
   ]
  },
  {
   "cell_type": "code",
   "execution_count": 72,
   "id": "72df9962",
   "metadata": {},
   "outputs": [
    {
     "name": "stdout",
     "output_type": "stream",
     "text": [
      "welcome to pp_calculator\n",
      "========================================\n",
      "what do you want to do(add,mul,div,sub,close) :div\n",
      "Enter the first number:45\n",
      "Enter the second number:20\n",
      "Result is  2.25\n",
      "========================================\n",
      "what do you want to do(add,mul,div,sub,close) :close\n",
      "caculator is stopped successfully.\n"
     ]
    }
   ],
   "source": [
    "calculator()"
   ]
  },
  {
   "cell_type": "markdown",
   "id": "af8c2265",
   "metadata": {},
   "source": [
    "_________________________________________________________________________"
   ]
  },
  {
   "cell_type": "markdown",
   "id": "927d0794",
   "metadata": {},
   "source": [
    "### The End"
   ]
  },
  {
   "cell_type": "code",
   "execution_count": null,
   "id": "19f3bf4f",
   "metadata": {},
   "outputs": [],
   "source": []
  }
 ],
 "metadata": {
  "kernelspec": {
   "display_name": "Python 3 (ipykernel)",
   "language": "python",
   "name": "python3"
  },
  "language_info": {
   "codemirror_mode": {
    "name": "ipython",
    "version": 3
   },
   "file_extension": ".py",
   "mimetype": "text/x-python",
   "name": "python",
   "nbconvert_exporter": "python",
   "pygments_lexer": "ipython3",
   "version": "3.9.13"
  }
 },
 "nbformat": 4,
 "nbformat_minor": 5
}
