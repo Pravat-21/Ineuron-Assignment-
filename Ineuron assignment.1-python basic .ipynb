{
 "cells": [
  {
   "cell_type": "markdown",
   "id": "f9e3e44d",
   "metadata": {},
   "source": [
    "# Assignment -1 (Python)"
   ]
  },
  {
   "cell_type": "raw",
   "id": "475c0a81",
   "metadata": {},
   "source": [
    "1. In the below elements which of them are values or an expression? eg:- values can be integer or string and expressions will be mathematical operators.\n",
    "* \n",
    "'hello'\n",
    "-87.8\n",
    "- \n",
    "/ \n",
    "+\t\n",
    "6 \n"
   ]
  },
  {
   "cell_type": "markdown",
   "id": "13af26fc",
   "metadata": {},
   "source": [
    "values are 'hello',-87.8,6 meanwhile mathematical operators are * ,-,/,+ ."
   ]
  },
  {
   "cell_type": "markdown",
   "id": "99405d71",
   "metadata": {},
   "source": [
    "__________________________________________________________________________________________"
   ]
  },
  {
   "cell_type": "markdown",
   "id": "81835453",
   "metadata": {},
   "source": [
    "2. What is the difference between string and variable?"
   ]
  },
  {
   "cell_type": "markdown",
   "id": "989fe32f",
   "metadata": {},
   "source": [
    "In a programming , in which we can assign a value of any type which can change .like if 'a' is said to be a variable then a can be assigned with the value of any data type and we can change the data fror our purpose .Where string is a perticular data type. For example ,------"
   ]
  },
  {
   "cell_type": "code",
   "execution_count": 10,
   "id": "df40f3e0",
   "metadata": {},
   "outputs": [],
   "source": [
    "a=10   # here a is assigned by a integer value ,10."
   ]
  },
  {
   "cell_type": "code",
   "execution_count": 11,
   "id": "dec5add2",
   "metadata": {},
   "outputs": [],
   "source": [
    "a=\"Pravat\" # here a is assigned by a  string value ,'Pravat'."
   ]
  },
  {
   "cell_type": "markdown",
   "id": "60c2b8b8",
   "metadata": {},
   "source": [
    "So at first, 'a' stores the value 10  but in next step , 'Pravat' is stored in the varibale 'a' in place of 10 ."
   ]
  },
  {
   "cell_type": "markdown",
   "id": "2445a047",
   "metadata": {},
   "source": [
    "String is a data type which is repesented with in a quote ,single or double .for example ,'pravat',\"1234566\"."
   ]
  },
  {
   "cell_type": "markdown",
   "id": "a7eca0ac",
   "metadata": {},
   "source": [
    "__________________________________________________________________________________________"
   ]
  },
  {
   "cell_type": "markdown",
   "id": "f7c7d43e",
   "metadata": {},
   "source": [
    "3. Describe three different data types."
   ]
  },
  {
   "cell_type": "raw",
   "id": "60440b12",
   "metadata": {},
   "source": [
    "1) Int data type - Here the value or data should be integer. For exapmle - 12,44 .\n",
    "2) Float Data type - Here the data should be the float . For example - 12.22 \n",
    "3) String data type - Here the data should be any character, represented with single or double quotes. For example - \"Pravat\", \"1234556\""
   ]
  },
  {
   "cell_type": "markdown",
   "id": "dad34178",
   "metadata": {},
   "source": [
    "_______________________________________________________________________________________"
   ]
  },
  {
   "cell_type": "markdown",
   "id": "3959e013",
   "metadata": {},
   "source": [
    "4. What is an expression made up of? What do all expressions do?"
   ]
  },
  {
   "cell_type": "markdown",
   "id": "76847e56",
   "metadata": {},
   "source": [
    "An expression is made up of some mathematical values , oparators like +,*,-,/ and variables, which gives us an output as a result . All the expression calculate  and give us the output which store that perticular variable . "
   ]
  },
  {
   "cell_type": "markdown",
   "id": "57c8e441",
   "metadata": {},
   "source": [
    "____________________________________________________________________________________________"
   ]
  },
  {
   "cell_type": "markdown",
   "id": "c6b760db",
   "metadata": {},
   "source": [
    "5. This assignment statements, like spam = 10. What is the difference between an expression and a statement?"
   ]
  },
  {
   "cell_type": "markdown",
   "id": "da98537b",
   "metadata": {},
   "source": [
    "First of all spam =10 expresses that spam is a variable which stores the int value 10 .There is no such things mixed with some values and oparators which can give us output after oparation ."
   ]
  },
  {
   "cell_type": "markdown",
   "id": "442d1f23",
   "metadata": {},
   "source": [
    "____________________________________________________________________________________________"
   ]
  },
  {
   "cell_type": "markdown",
   "id": "50eb0d7d",
   "metadata": {},
   "source": [
    "6. After running the following code, what does the variable bacon contain?\n",
    "bacon = 22\n",
    "bacon + 1\n"
   ]
  },
  {
   "cell_type": "markdown",
   "id": "9c407034",
   "metadata": {},
   "source": [
    "22"
   ]
  },
  {
   "cell_type": "markdown",
   "id": "3262d5c9",
   "metadata": {},
   "source": [
    "__________________________________________________________________________________________________"
   ]
  },
  {
   "cell_type": "markdown",
   "id": "861de5c0",
   "metadata": {},
   "source": [
    "7. What should the values of the following two terms be?\n",
    "'spam' + 'spamspam'\n",
    "'spam' * 3\n"
   ]
  },
  {
   "cell_type": "markdown",
   "id": "acad119f",
   "metadata": {},
   "source": [
    "Both give us the same output as 'spamspamspam'."
   ]
  },
  {
   "cell_type": "markdown",
   "id": "bac4188e",
   "metadata": {},
   "source": [
    "________________________________________________________________________"
   ]
  },
  {
   "cell_type": "markdown",
   "id": "285f4910",
   "metadata": {},
   "source": [
    "8. Why is eggs a valid variable name while 100 is invalid?"
   ]
  },
  {
   "cell_type": "markdown",
   "id": "86e60ad9",
   "metadata": {},
   "source": [
    "We know that a variable name can't start  with a number . "
   ]
  },
  {
   "cell_type": "markdown",
   "id": "98fc7e90",
   "metadata": {},
   "source": [
    "________________________________________________________________________________________"
   ]
  },
  {
   "cell_type": "markdown",
   "id": "3d4eeb7d",
   "metadata": {},
   "source": [
    "9. What three functions can be used to get the integer, floating-point number, or string version of a value?"
   ]
  },
  {
   "cell_type": "markdown",
   "id": "63b42efa",
   "metadata": {},
   "source": [
    "To get the interger version of  value there is int () function , for floating - poiunt number there is float()and for string , there is str() function ."
   ]
  },
  {
   "cell_type": "markdown",
   "id": "2122b298",
   "metadata": {},
   "source": [
    "______________________________________________________________________"
   ]
  },
  {
   "cell_type": "markdown",
   "id": "44e72c85",
   "metadata": {},
   "source": [
    "10. Why does this expression cause an error? How can you fix it?\n",
    "'I have eaten ' + 99 + ' burritos.'\n",
    "\n",
    "Ans : Pyhton only can add the same data type . But here 'I have eaten' and 'burritos' are string where 99 is integer . som python can't add them . that's why it causes the error .\n",
    "  so we need to convert the interger value into a string value , and we can use the str function , or simply we can use single or double quote over 99 to convert it into string type .    "
   ]
  },
  {
   "cell_type": "code",
   "execution_count": 12,
   "id": "52110b17",
   "metadata": {},
   "outputs": [
    {
     "data": {
      "text/plain": [
       "'I have eaten 99 burritos.'"
      ]
     },
     "execution_count": 12,
     "metadata": {},
     "output_type": "execute_result"
    }
   ],
   "source": [
    "'I have eaten ' + str(99) + ' burritos.'"
   ]
  },
  {
   "cell_type": "code",
   "execution_count": 13,
   "id": "dd01bd47",
   "metadata": {},
   "outputs": [
    {
     "data": {
      "text/plain": [
       "'I have eaten 99 burritos.'"
      ]
     },
     "execution_count": 13,
     "metadata": {},
     "output_type": "execute_result"
    }
   ],
   "source": [
    "'I have eaten ' + '99' + ' burritos.'"
   ]
  },
  {
   "cell_type": "code",
   "execution_count": null,
   "id": "fa2c854a",
   "metadata": {},
   "outputs": [],
   "source": []
  }
 ],
 "metadata": {
  "kernelspec": {
   "display_name": "Python 3",
   "language": "python",
   "name": "python3"
  },
  "language_info": {
   "codemirror_mode": {
    "name": "ipython",
    "version": 3
   },
   "file_extension": ".py",
   "mimetype": "text/x-python",
   "name": "python",
   "nbconvert_exporter": "python",
   "pygments_lexer": "ipython3",
   "version": "3.8.8"
  }
 },
 "nbformat": 4,
 "nbformat_minor": 5
}
