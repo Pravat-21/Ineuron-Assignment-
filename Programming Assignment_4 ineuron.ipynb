{
 "cells": [
  {
   "cell_type": "markdown",
   "id": "f4705300",
   "metadata": {},
   "source": [
    "1. Write a Python Program to Find the Factorial of a Number?"
   ]
  },
  {
   "cell_type": "code",
   "execution_count": 10,
   "id": "9ab2cd19",
   "metadata": {},
   "outputs": [
    {
     "name": "stdout",
     "output_type": "stream",
     "text": [
      "Enter the number: 12\n",
      "The factorial of 12 is  479001600\n"
     ]
    }
   ],
   "source": [
    "x=int(input(\"Enter the number: \"))\n",
    "p=1\n",
    "for i in range (x,0,-1):\n",
    "    p=p*i\n",
    "print(f\"The factorial of {x} is \", p)    "
   ]
  },
  {
   "cell_type": "markdown",
   "id": "6372db5c",
   "metadata": {},
   "source": [
    "____________________________________"
   ]
  },
  {
   "cell_type": "markdown",
   "id": "b8f30d14",
   "metadata": {},
   "source": [
    "2. Write a Python Program to Display the multiplication Table?"
   ]
  },
  {
   "cell_type": "code",
   "execution_count": 13,
   "id": "b900f153",
   "metadata": {},
   "outputs": [
    {
     "name": "stdout",
     "output_type": "stream",
     "text": [
      "Enter the number of which you want the multiplication table : 10\n",
      "Enter the number till which you want 10 - multiplication table : 12\n",
      "Multiplication table of 10 is \n",
      "10 * 1 =  10\n",
      "10 * 2 =  20\n",
      "10 * 3 =  30\n",
      "10 * 4 =  40\n",
      "10 * 5 =  50\n",
      "10 * 6 =  60\n",
      "10 * 7 =  70\n",
      "10 * 8 =  80\n",
      "10 * 9 =  90\n",
      "10 * 10 =  100\n",
      "10 * 11 =  110\n",
      "10 * 12 =  120\n"
     ]
    }
   ],
   "source": [
    "x=int(input(\"Enter the number of which you want the multiplication table : \"))\n",
    "y=int(input(f\"Enter the number till which you want {x} - multiplication table : \"))\n",
    "print(f\"Multiplication table of {x} is \")\n",
    "for i in range(1,y+1):\n",
    "    p=x*i\n",
    "    print(f\"{x} * {i} = \",p)"
   ]
  },
  {
   "cell_type": "markdown",
   "id": "955b1e36",
   "metadata": {},
   "source": [
    "________________________________________"
   ]
  },
  {
   "cell_type": "markdown",
   "id": "ded8682a",
   "metadata": {},
   "source": [
    "3. Write a Python Program to Print the Fibonacci sequence?"
   ]
  },
  {
   "cell_type": "code",
   "execution_count": 29,
   "id": "0ed438eb",
   "metadata": {},
   "outputs": [
    {
     "name": "stdout",
     "output_type": "stream",
     "text": [
      "How many Fibonacci Number you want to print: 12\n",
      "0\n",
      "1\n",
      "1\n",
      "2\n",
      "3\n",
      "5\n",
      "8\n",
      "13\n",
      "21\n",
      "34\n",
      "55\n",
      "89\n"
     ]
    }
   ],
   "source": [
    "z=int(input(\"How many Fibonacci Number you want to print: \"))\n",
    "x,y=0,1\n",
    "if z==1:\n",
    "    print(x)\n",
    "elif z==2:\n",
    "    print(x)\n",
    "    print(y)\n",
    "else:\n",
    "    print(x)\n",
    "    print(y)\n",
    "    for i in range (1,z-1):\n",
    "        p=x+y\n",
    "        print(p)\n",
    "        x,y=y,p"
   ]
  },
  {
   "cell_type": "markdown",
   "id": "1e208ffa",
   "metadata": {},
   "source": [
    "__________________________________________"
   ]
  },
  {
   "cell_type": "markdown",
   "id": "8fae9e3b",
   "metadata": {},
   "source": [
    "4. Write a Python Program to Check Armstrong Number?"
   ]
  },
  {
   "cell_type": "code",
   "execution_count": 60,
   "id": "e6c977f2",
   "metadata": {},
   "outputs": [
    {
     "name": "stdout",
     "output_type": "stream",
     "text": [
      "Enter the number :1634\n",
      "1634 is a armstrong number.\n"
     ]
    }
   ],
   "source": [
    "x=int(input(\"Enter the number :\"))\n",
    "p=0\n",
    "str(x)\n",
    "a1=[]\n",
    "for i in str(x):\n",
    "    a1.append(int(i))\n",
    "for i in a1:\n",
    "    p=p+(i)**(len(a1))\n",
    "if p ==x:\n",
    "    print(f\"{x} is a armstrong number.\")\n",
    "else:\n",
    "    print(f\"{x} is not a armstrong number.\")"
   ]
  },
  {
   "cell_type": "markdown",
   "id": "237fa9f2",
   "metadata": {},
   "source": [
    "_____________________________________________"
   ]
  },
  {
   "cell_type": "markdown",
   "id": "c855c2da",
   "metadata": {},
   "source": [
    "5. Write a Python Program to Find Armstrong Number in an Interval?"
   ]
  },
  {
   "cell_type": "code",
   "execution_count": 62,
   "id": "f634ea04",
   "metadata": {},
   "outputs": [
    {
     "name": "stdout",
     "output_type": "stream",
     "text": [
      "Enter the lower bound of the interval: 10000\n",
      "Enter the upper bound of the interval: 100000\n",
      "These are the armstrong numbers in the interval (10000 100000).\n",
      "54748\n",
      "92727\n",
      "93084\n"
     ]
    }
   ],
   "source": [
    "x=int(input(\"Enter the lower bound of the interval: \"))\n",
    "y=int(input(\"Enter the upper bound of the interval: \"))\n",
    "print(f\"These are the armstrong numbers in the interval ({x} {y}).\")\n",
    "for i in range(x,y+1):\n",
    "    s=str(i)\n",
    "    p=0\n",
    "    a1=[]\n",
    "    for j in s:\n",
    "        a1.append(int(j))\n",
    "        \n",
    "    for k in a1:\n",
    "        p=p+(k)**len(a1)\n",
    "        \n",
    "    if p==i:\n",
    "        print(i)\n",
    "\n",
    "    \n",
    "        "
   ]
  },
  {
   "cell_type": "markdown",
   "id": "5db99cfd",
   "metadata": {},
   "source": [
    "____________________________________________"
   ]
  },
  {
   "cell_type": "markdown",
   "id": "e058b806",
   "metadata": {},
   "source": [
    "6. Write a Python Program to Find the Sum of Natural Numbers?"
   ]
  },
  {
   "cell_type": "code",
   "execution_count": 64,
   "id": "64bf15be",
   "metadata": {},
   "outputs": [
    {
     "name": "stdout",
     "output_type": "stream",
     "text": [
      "Enter the number till where you want to add all the natural number : 10\n",
      "The sum of the first 10 natural number is  55\n"
     ]
    }
   ],
   "source": [
    "x=int(input(\"Enter the number till where you want to add all the natural number : \"))\n",
    "p=0\n",
    "for i in range (0,x+1):\n",
    "    p=p+i\n",
    "print(f\"The sum of the first {x} natural number is \",p)    "
   ]
  },
  {
   "cell_type": "markdown",
   "id": "0ac3ece4",
   "metadata": {},
   "source": [
    "    ANOTHER WAY :"
   ]
  },
  {
   "cell_type": "code",
   "execution_count": 65,
   "id": "8a76d5d8",
   "metadata": {},
   "outputs": [
    {
     "name": "stdout",
     "output_type": "stream",
     "text": [
      "Enter the number till where you want to add all the natural number : 10\n",
      "The sum of the first 10 natural number is  55.0\n"
     ]
    }
   ],
   "source": [
    "x=int(input(\"Enter the number till where you want to add all the natural number : \"))\n",
    "p=(x*(x+1))/2\n",
    "print(f\"The sum of the first {x} natural number is \",p)"
   ]
  },
  {
   "cell_type": "markdown",
   "id": "dd20667c",
   "metadata": {},
   "source": [
    "___________________________________________"
   ]
  },
  {
   "cell_type": "markdown",
   "id": "67d7c082",
   "metadata": {},
   "source": [
    "_______________The End _________________"
   ]
  }
 ],
 "metadata": {
  "kernelspec": {
   "display_name": "Python 3",
   "language": "python",
   "name": "python3"
  },
  "language_info": {
   "codemirror_mode": {
    "name": "ipython",
    "version": 3
   },
   "file_extension": ".py",
   "mimetype": "text/x-python",
   "name": "python",
   "nbconvert_exporter": "python",
   "pygments_lexer": "ipython3",
   "version": "3.8.8"
  }
 },
 "nbformat": 4,
 "nbformat_minor": 5
}
