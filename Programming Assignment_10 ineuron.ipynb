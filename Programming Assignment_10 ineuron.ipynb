{
 "cells": [
  {
   "cell_type": "markdown",
   "id": "1f37ce6e",
   "metadata": {},
   "source": [
    "1. Write a Python program to find sum of elements in list?"
   ]
  },
  {
   "cell_type": "code",
   "execution_count": 6,
   "id": "5d07fee5",
   "metadata": {},
   "outputs": [
    {
     "name": "stdout",
     "output_type": "stream",
     "text": [
      "The sum of the elements of the given list is  174\n"
     ]
    }
   ],
   "source": [
    "a1=[2,3,67,8,5,89]\n",
    "s=0\n",
    "for i in a1:\n",
    "    s=s+i\n",
    "print(\"The sum of the elements of the given list is \",s)    "
   ]
  },
  {
   "cell_type": "markdown",
   "id": "5efbf1ea",
   "metadata": {},
   "source": [
    "_______Another way___________"
   ]
  },
  {
   "cell_type": "code",
   "execution_count": 7,
   "id": "5cb28b31",
   "metadata": {},
   "outputs": [
    {
     "data": {
      "text/plain": [
       "174"
      ]
     },
     "execution_count": 7,
     "metadata": {},
     "output_type": "execute_result"
    }
   ],
   "source": [
    "a1=[2,3,67,8,5,89]\n",
    "sum(a1)"
   ]
  },
  {
   "cell_type": "markdown",
   "id": "f0afa517",
   "metadata": {},
   "source": [
    "_____________________________________________"
   ]
  },
  {
   "cell_type": "markdown",
   "id": "2bac2512",
   "metadata": {},
   "source": [
    "2. Write a Python program to Multiply all numbers in the list?"
   ]
  },
  {
   "cell_type": "code",
   "execution_count": 9,
   "id": "e0eb865e",
   "metadata": {},
   "outputs": [
    {
     "name": "stdout",
     "output_type": "stream",
     "text": [
      "The multiplication of the elements of the given list is  1431120\n"
     ]
    }
   ],
   "source": [
    "a1=[2,3,67,8,5,89]\n",
    "m=1\n",
    "for i in a1:\n",
    "    m=m*i\n",
    "print(\"The multiplication of the elements of the given list is \",m)    "
   ]
  },
  {
   "cell_type": "markdown",
   "id": "627d93ed",
   "metadata": {},
   "source": [
    "____________________________________"
   ]
  },
  {
   "cell_type": "markdown",
   "id": "6ed2e502",
   "metadata": {},
   "source": [
    "3. Write a Python program to find smallest number in a list?"
   ]
  },
  {
   "cell_type": "code",
   "execution_count": 38,
   "id": "6647f092",
   "metadata": {},
   "outputs": [
    {
     "name": "stdout",
     "output_type": "stream",
     "text": [
      "2 is the smallest element in the given list .\n"
     ]
    }
   ],
   "source": [
    "a1=[2,30,67,8,100]\n",
    "small=a1[0]\n",
    "for i in range(1,len(a1)):\n",
    "    if a1[i]<small:\n",
    "        small=a1[i]\n",
    "    else:\n",
    "        small=small\n",
    "print(f\"{small} is the smallest element in the given list .\")               "
   ]
  },
  {
   "cell_type": "markdown",
   "id": "48ad05c6",
   "metadata": {},
   "source": [
    "_________Another Way__________"
   ]
  },
  {
   "cell_type": "code",
   "execution_count": 3,
   "id": "3d4dad21",
   "metadata": {},
   "outputs": [
    {
     "name": "stdout",
     "output_type": "stream",
     "text": [
      "8 is the smallest element in the given list.\n"
     ]
    }
   ],
   "source": [
    "a1=[20,30,67,8,100]\n",
    "s=sorted(a1)\n",
    "print(f\"{s[0]} is the smallest element in the given list.\")"
   ]
  },
  {
   "cell_type": "markdown",
   "id": "d50ae161",
   "metadata": {},
   "source": [
    "_________________________________________"
   ]
  },
  {
   "cell_type": "markdown",
   "id": "3c3b2a70",
   "metadata": {},
   "source": [
    "4. Write a Python program to find largest number in a list?"
   ]
  },
  {
   "cell_type": "code",
   "execution_count": 55,
   "id": "cca638be",
   "metadata": {},
   "outputs": [
    {
     "name": "stdout",
     "output_type": "stream",
     "text": [
      "39000 is the largest element in the given list .\n"
     ]
    }
   ],
   "source": [
    "a1=[20000,30,67,800,100,39000,34,3,4,670]\n",
    "larg=a1[0]\n",
    "for i in range(1,len(a1)):\n",
    "    if a1[i]>larg:\n",
    "        larg=a1[i]\n",
    "    else:\n",
    "        larg=larg\n",
    "print(f\"{larg} is the largest element in the given list .\") "
   ]
  },
  {
   "cell_type": "markdown",
   "id": "ec0305f2",
   "metadata": {},
   "source": [
    "_________Another way_____________"
   ]
  },
  {
   "cell_type": "code",
   "execution_count": 56,
   "id": "1f7d663f",
   "metadata": {},
   "outputs": [
    {
     "name": "stdout",
     "output_type": "stream",
     "text": [
      "39000 is the largest element in the given list .\n"
     ]
    }
   ],
   "source": [
    "a1=[20000,30,67,800,100,39000,34,3,4,670]\n",
    "a1.sort(reverse=True)\n",
    "print(f\"{a1[0]} is the largest element in the given list .\")"
   ]
  },
  {
   "cell_type": "markdown",
   "id": "834c1625",
   "metadata": {},
   "source": [
    "______________________________________________________"
   ]
  },
  {
   "cell_type": "markdown",
   "id": "dccf5676",
   "metadata": {},
   "source": [
    "5. Write a Python program to find second largest number in a list?"
   ]
  },
  {
   "cell_type": "code",
   "execution_count": 5,
   "id": "7fd9d865",
   "metadata": {},
   "outputs": [
    {
     "name": "stdout",
     "output_type": "stream",
     "text": [
      "23 is the second largest number of the given list. \n"
     ]
    }
   ],
   "source": [
    "a1=[23,2,2,34,2]\n",
    "s=sorted(a1)\n",
    "print(f\"{s[-2]} is the second largest number of the given list. \")\n"
   ]
  },
  {
   "cell_type": "markdown",
   "id": "7bf3a46b",
   "metadata": {},
   "source": [
    "________________________________________"
   ]
  },
  {
   "cell_type": "markdown",
   "id": "a981704a",
   "metadata": {},
   "source": [
    "6. Write a Python program to find N largest elements from a list?"
   ]
  },
  {
   "cell_type": "code",
   "execution_count": 41,
   "id": "dcf1521b",
   "metadata": {},
   "outputs": [
    {
     "name": "stdout",
     "output_type": "stream",
     "text": [
      "Enter the value of N that is for N th largest number:  3\n",
      "78 is the 3th largest number in this list.\n"
     ]
    }
   ],
   "source": [
    "x=int(input(\"Enter the value of N that is for N th largest number:  \"))\n",
    "a1=[12,3,45,334,67,78,55,66,90,12,12]\n",
    "s=sorted(a1)\n",
    "print(f\"{s[-x]} is the {x}th largest number in this list.\")\n"
   ]
  },
  {
   "cell_type": "markdown",
   "id": "d9e8ba93",
   "metadata": {},
   "source": [
    "___________________________________________________"
   ]
  },
  {
   "cell_type": "markdown",
   "id": "e8b373b3",
   "metadata": {},
   "source": [
    "7. Write a Python program to print even numbers in a list?"
   ]
  },
  {
   "cell_type": "code",
   "execution_count": 42,
   "id": "86f3abce",
   "metadata": {},
   "outputs": [
    {
     "name": "stdout",
     "output_type": "stream",
     "text": [
      "All the even numbers of this list are :\n",
      "12\n",
      "44\n",
      "32\n",
      "34\n",
      "12\n",
      "14\n",
      "82\n"
     ]
    }
   ],
   "source": [
    "l=[12,44,877,65,99,32,34,33,12,14,15,73,82,89,41]\n",
    "print(\"All the even numbers of this list are :\")\n",
    "for i in l:\n",
    "    if i%2==0:\n",
    "        print(i)"
   ]
  },
  {
   "cell_type": "markdown",
   "id": "66087184",
   "metadata": {},
   "source": [
    "____________________________________"
   ]
  },
  {
   "cell_type": "markdown",
   "id": "6c29e448",
   "metadata": {},
   "source": [
    "8. Write a Python program to print odd numbers in a List?"
   ]
  },
  {
   "cell_type": "code",
   "execution_count": 13,
   "id": "de0bb65d",
   "metadata": {},
   "outputs": [
    {
     "name": "stdout",
     "output_type": "stream",
     "text": [
      "All the odd numbers of this list are :\n",
      "877\n",
      "65\n",
      "99\n",
      "33\n",
      "15\n",
      "73\n",
      "89\n",
      "41\n"
     ]
    }
   ],
   "source": [
    "l=[12,44,877,65,99,32,34,33,12,14,15,73,82,89,41]\n",
    "print(\"All the odd numbers of this list are :\")\n",
    "for i in l:\n",
    "    if i%2!=0:\n",
    "        print(i)"
   ]
  },
  {
   "cell_type": "markdown",
   "id": "87d23ed3",
   "metadata": {},
   "source": [
    "___________________________________________"
   ]
  },
  {
   "cell_type": "markdown",
   "id": "9362f646",
   "metadata": {},
   "source": [
    "9. Write a Python program to Remove empty List from List?"
   ]
  },
  {
   "cell_type": "code",
   "execution_count": 21,
   "id": "d6d5aa22",
   "metadata": {},
   "outputs": [
    {
     "name": "stdout",
     "output_type": "stream",
     "text": [
      "After the removing all the empty list from the given list the final list be : [34, 32, 1, 4, 56, 45, [45, 4, 34, 5], 67, 45]\n"
     ]
    }
   ],
   "source": [
    "l=[34,32,1,[],4,56,[],45,[45,4,34,5],67,[],45,[]]\n",
    "for i in l:\n",
    "    if type(i)==list:\n",
    "        if len(i)==0:\n",
    "            l.remove(i)\n",
    "print(\"After the removing all the empty list from the given list the final list be :\",l)           \n",
    "        "
   ]
  },
  {
   "cell_type": "markdown",
   "id": "7ace86cc",
   "metadata": {},
   "source": [
    "____________________________________________"
   ]
  },
  {
   "cell_type": "markdown",
   "id": "a5c8e7b5",
   "metadata": {},
   "source": [
    "10. Write a Python program to Cloning or Copying a list?"
   ]
  },
  {
   "cell_type": "code",
   "execution_count": 22,
   "id": "fb5c51c9",
   "metadata": {},
   "outputs": [
    {
     "name": "stdout",
     "output_type": "stream",
     "text": [
      "After cloning or copying a list the new list be : [23, 3, 4, 5, 6, 77, 88, 98, 34]\n"
     ]
    }
   ],
   "source": [
    "l=[23,3,4,5,6,77,88,98,34]\n",
    "a1=[]\n",
    "for i in l:\n",
    "    a1.append(i)\n",
    "print(\"After cloning or copying a list the new list be :\",a1)    "
   ]
  },
  {
   "cell_type": "markdown",
   "id": "4e63293d",
   "metadata": {},
   "source": [
    "_______Another Way_____________"
   ]
  },
  {
   "cell_type": "code",
   "execution_count": 24,
   "id": "ea3db683",
   "metadata": {},
   "outputs": [
    {
     "name": "stdout",
     "output_type": "stream",
     "text": [
      "After cloning or copying a list the new list be : [23, 3, 4, 5, 6, 77, 88, 98, 34]\n"
     ]
    }
   ],
   "source": [
    "l=[23,3,4,5,6,77,88,98,34]\n",
    "a1=l\n",
    "print(\"After cloning or copying a list the new list be :\",a1)\n"
   ]
  },
  {
   "cell_type": "markdown",
   "id": "8cc9d46b",
   "metadata": {},
   "source": [
    "___________________________________________"
   ]
  },
  {
   "cell_type": "markdown",
   "id": "bc31f5c2",
   "metadata": {},
   "source": [
    "11. Write a Python program to Count occurrences of an element in a list?"
   ]
  },
  {
   "cell_type": "code",
   "execution_count": 28,
   "id": "6ccf724e",
   "metadata": {},
   "outputs": [
    {
     "name": "stdout",
     "output_type": "stream",
     "text": [
      "98 occurs 1 times in the list.\n",
      "3 occurs 4 times in the list.\n",
      "4 occurs 1 times in the list.\n",
      "5 occurs 1 times in the list.\n",
      "6 occurs 1 times in the list.\n",
      "34 occurs 2 times in the list.\n",
      "66 occurs 1 times in the list.\n",
      "77 occurs 2 times in the list.\n",
      "23 occurs 1 times in the list.\n",
      "88 occurs 3 times in the list.\n"
     ]
    }
   ],
   "source": [
    "l=[23,3,4,5,6,77,88,98,34,3,3,3,66,77,88,88,34]\n",
    "l1=set(l)\n",
    "for i in l1:\n",
    "    print(f\"{i} occurs {l.count(i)} times in the list.\")\n",
    "    "
   ]
  },
  {
   "cell_type": "markdown",
   "id": "e1468942",
   "metadata": {},
   "source": [
    "__________Another Way___________"
   ]
  },
  {
   "cell_type": "code",
   "execution_count": 37,
   "id": "ad71273a",
   "metadata": {},
   "outputs": [
    {
     "name": "stdout",
     "output_type": "stream",
     "text": [
      "98 occurs 1 times in the given list.\n",
      "3 occurs 4 times in the given list.\n",
      "4 occurs 1 times in the given list.\n",
      "5 occurs 1 times in the given list.\n",
      "6 occurs 1 times in the given list.\n",
      "34 occurs 2 times in the given list.\n",
      "66 occurs 1 times in the given list.\n",
      "77 occurs 2 times in the given list.\n",
      "23 occurs 1 times in the given list.\n",
      "88 occurs 3 times in the given list.\n"
     ]
    }
   ],
   "source": [
    "l=[23,3,4,5,6,77,88,98,34,3,3,3,66,77,88,88,34]\n",
    "for i in set(l):\n",
    "    p=0\n",
    "    for j in range(len(l)):\n",
    "        if l[j]==i:\n",
    "            p=p+1\n",
    "    print(f\"{i} occurs {p} times in the given list.\")        "
   ]
  },
  {
   "cell_type": "markdown",
   "id": "549c6e66",
   "metadata": {},
   "source": [
    "_________________________________________________"
   ]
  },
  {
   "cell_type": "markdown",
   "id": "a814e474",
   "metadata": {},
   "source": [
    "____________The End_________________"
   ]
  }
 ],
 "metadata": {
  "kernelspec": {
   "display_name": "Python 3",
   "language": "python",
   "name": "python3"
  },
  "language_info": {
   "codemirror_mode": {
    "name": "ipython",
    "version": 3
   },
   "file_extension": ".py",
   "mimetype": "text/x-python",
   "name": "python",
   "nbconvert_exporter": "python",
   "pygments_lexer": "ipython3",
   "version": "3.8.8"
  }
 },
 "nbformat": 4,
 "nbformat_minor": 5
}
