{
 "cells": [
  {
   "cell_type": "markdown",
   "id": "b6351f96",
   "metadata": {},
   "source": [
    "## Assignment_3:"
   ]
  },
  {
   "cell_type": "markdown",
   "id": "0f57332b",
   "metadata": {},
   "source": [
    "**1. Why are functions advantageous to have in your programs?**"
   ]
  },
  {
   "cell_type": "markdown",
   "id": "39820a2f",
   "metadata": {},
   "source": [
    "**Ans:**<br> \n",
    "- Functions reduce the need for duplicate code.we dont need to write the same code again again.\n",
    "- This makes programs shorter, easier to read, and easier to update. \n",
    "- The main advantage of functions is code Reusability."
   ]
  },
  {
   "cell_type": "markdown",
   "id": "027e5126",
   "metadata": {},
   "source": [
    "____________________________________________________"
   ]
  },
  {
   "cell_type": "markdown",
   "id": "42f0a5dd",
   "metadata": {},
   "source": [
    "**2. When does the code in a function run: when it&#39;s specified or when it&#39;s called?**"
   ]
  },
  {
   "cell_type": "markdown",
   "id": "9d1239d5",
   "metadata": {},
   "source": [
    "**Ans :**<br>\n",
    "when it is called."
   ]
  },
  {
   "cell_type": "markdown",
   "id": "91b90f2a",
   "metadata": {},
   "source": [
    "____________________________________________________________"
   ]
  },
  {
   "cell_type": "markdown",
   "id": "6dd1f64e",
   "metadata": {},
   "source": [
    "**3. What statement creates a function?**"
   ]
  },
  {
   "cell_type": "markdown",
   "id": "94865a52",
   "metadata": {},
   "source": [
    "**Ans :**<br>\n",
    "- The `def` keyword defines a function.<br><br>\n",
    "- **Body of a Function:**<br><br>\n",
    "    - `def` function_name(parameters)`:`<br>\"\"\"doc string\"\"\"<br>\n",
    "        ----- body (code)-----<br>\n",
    "      `return` output"
   ]
  },
  {
   "cell_type": "markdown",
   "id": "1d7a0198",
   "metadata": {},
   "source": [
    "_____________________________________________________"
   ]
  },
  {
   "cell_type": "markdown",
   "id": "5b5c3ff7",
   "metadata": {},
   "source": [
    "**4. What is the difference between a function and a function call?**"
   ]
  },
  {
   "cell_type": "markdown",
   "id": "827b7476",
   "metadata": {},
   "source": [
    "**Ans:**<br>\n",
    "- A function is procedure to achieve a particular result. while function call is using this function to achive that task. Using a function by calling it, to do a particular task any point in program is called as function call.\n",
    "- Basically the function is a genaralized version that helps to do a perticular task which is possible by calling it whenever it is required by passing the parameters."
   ]
  },
  {
   "cell_type": "markdown",
   "id": "f877076f",
   "metadata": {},
   "source": [
    "_________________________________________________________________________"
   ]
  },
  {
   "cell_type": "markdown",
   "id": "f675c0eb",
   "metadata": {},
   "source": [
    "**5. How many global scopes are there in a Python program? How many local scopes?**"
   ]
  },
  {
   "cell_type": "markdown",
   "id": "9d3ad908",
   "metadata": {},
   "source": [
    "**Ans:**<br>\n",
    "There is one global scope, and a local scope is created whenever a function is called."
   ]
  },
  {
   "cell_type": "markdown",
   "id": "aa49a5e3",
   "metadata": {},
   "source": [
    "_________________________________________________________________________"
   ]
  },
  {
   "cell_type": "markdown",
   "id": "8e38630f",
   "metadata": {},
   "source": [
    "**6. What happens to variables in a local scope when the function call returns?**"
   ]
  },
  {
   "cell_type": "markdown",
   "id": "334dbc32",
   "metadata": {},
   "source": [
    "**Ans:**<br>\n",
    "When a function returns, the local scope is destroyed, and all the variables in it are forgotten."
   ]
  },
  {
   "cell_type": "markdown",
   "id": "0ea81b5b",
   "metadata": {},
   "source": [
    "_______________________________________________________________"
   ]
  },
  {
   "cell_type": "markdown",
   "id": "20d0b1d2",
   "metadata": {},
   "source": [
    "**7. What is the concept of a return value? Is it possible to have a return value in an expression?**<br><br>\n",
    "**Ans:**<br> A return value is the value that a function call evaluates to. Like any value, a return value can be used as part of an expression.\n",
    "\n"
   ]
  },
  {
   "cell_type": "markdown",
   "id": "bfde791f",
   "metadata": {},
   "source": [
    "______________________________________________________________________"
   ]
  },
  {
   "cell_type": "markdown",
   "id": "9ffb0ab8",
   "metadata": {},
   "source": [
    "**8. If a function does not have a return statement, what is the return value of a call to that function?**"
   ]
  },
  {
   "cell_type": "markdown",
   "id": "cbd8e5f1",
   "metadata": {},
   "source": [
    "**Ans:**<br>\n",
    "If there is no return statement for a function, its return value is None."
   ]
  },
  {
   "cell_type": "markdown",
   "id": "b8a1ac01",
   "metadata": {},
   "source": [
    "_________________________________________________________________"
   ]
  },
  {
   "cell_type": "markdown",
   "id": "ff82aed8",
   "metadata": {},
   "source": [
    "**9. How do you make a function variable refer to the global variable?**\n"
   ]
  },
  {
   "cell_type": "markdown",
   "id": "8852d8d6",
   "metadata": {},
   "source": [
    "**Ans:**<br>\n",
    "A global statement will force a variable in a function to refer to the global variable. If you want to refer to a global variable in a function, you can use the global keyword to declare which variables are global."
   ]
  },
  {
   "cell_type": "markdown",
   "id": "76f2348a",
   "metadata": {},
   "source": [
    "__________________________________________________________"
   ]
  },
  {
   "cell_type": "markdown",
   "id": "96dc991d",
   "metadata": {},
   "source": [
    "**10. What is the data type of None?**<br><br>\n",
    "**Ans:**<br> The data type of None is NoneType."
   ]
  },
  {
   "cell_type": "markdown",
   "id": "0e6a6963",
   "metadata": {},
   "source": [
    "________________________________________________"
   ]
  },
  {
   "cell_type": "markdown",
   "id": "faf50c7b",
   "metadata": {},
   "source": [
    "**11. What does the sentence import areallyourpetsnamederic do?**<br><br>\n",
    "**Ans:**<br> That import statement imports a module named areallyourpetsnamederic."
   ]
  },
  {
   "cell_type": "markdown",
   "id": "fb2491b5",
   "metadata": {},
   "source": [
    "____________________________________________________"
   ]
  },
  {
   "cell_type": "markdown",
   "id": "dcf02adf",
   "metadata": {},
   "source": [
    "**12. If you had a bacon() feature in a spam module, what would you call it after importing spam?**<br><br>\n",
    "**Ans:**<br> This function can be called with spam.bacon().\n",
    "\n"
   ]
  },
  {
   "cell_type": "markdown",
   "id": "d8bb8741",
   "metadata": {},
   "source": [
    "___________________________________________________________"
   ]
  },
  {
   "cell_type": "markdown",
   "id": "446aed97",
   "metadata": {},
   "source": [
    "**13. What can you do to save a programme from crashing if it encounters an error?**<br><br>\n",
    "**Ans:**<br> Place the line of code that might cause an error in a try clause and use except block to handle the error.\n",
    "\n"
   ]
  },
  {
   "cell_type": "markdown",
   "id": "79023b1f",
   "metadata": {},
   "source": [
    "____________________________________________________"
   ]
  },
  {
   "cell_type": "markdown",
   "id": "a8feadad",
   "metadata": {},
   "source": [
    "**14. What is the purpose of the try clause? What is the purpose of the except clause?**<br><br>\n",
    "**Ans:**<br>\n",
    "- The code that could potentially cause an error goes in the try clause. \n",
    "- The code that executes if an error happens goes in the except clause."
   ]
  },
  {
   "cell_type": "markdown",
   "id": "d9965a12",
   "metadata": {},
   "source": [
    "______________________________________________________________________"
   ]
  },
  {
   "cell_type": "markdown",
   "id": "6a0f9db4",
   "metadata": {},
   "source": [
    "**____________________The END__________________________**"
   ]
  }
 ],
 "metadata": {
  "kernelspec": {
   "display_name": "Python 3 (ipykernel)",
   "language": "python",
   "name": "python3"
  },
  "language_info": {
   "codemirror_mode": {
    "name": "ipython",
    "version": 3
   },
   "file_extension": ".py",
   "mimetype": "text/x-python",
   "name": "python",
   "nbconvert_exporter": "python",
   "pygments_lexer": "ipython3",
   "version": "3.9.13"
  }
 },
 "nbformat": 4,
 "nbformat_minor": 5
}
