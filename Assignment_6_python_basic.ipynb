{
 "cells": [
  {
   "cell_type": "markdown",
   "metadata": {},
   "source": [
    "## Assignment_6 :"
   ]
  },
  {
   "cell_type": "markdown",
   "metadata": {},
   "source": [
    "**1.What are Escape characters ? and how do you use them ?**<br><br>\n",
    "**Ans:**<br>Escape characters represent characters in string values that would otherwise be difficult or impossible to type into code. we can use the backslash `character` to escape a single character or symbol  \n",
    "**example:** `\\t, \\n`\n"
   ]
  },
  {
   "cell_type": "markdown",
   "metadata": {},
   "source": [
    "_________________________________________________"
   ]
  },
  {
   "cell_type": "markdown",
   "metadata": {},
   "source": [
    "**2.What do the escape characters n and t stand for ?**<br><br>\n",
    "**Ans:**<br> \n",
    "- `\\n` is a newline.\n",
    "- `\\t` is a tab."
   ]
  },
  {
   "cell_type": "markdown",
   "metadata": {},
   "source": [
    "__________________________________________________________________"
   ]
  },
  {
   "cell_type": "markdown",
   "metadata": {},
   "source": [
    "**3.What is the way to include backslash character in a string?**<br><br>\n",
    "**Ans:**<br> The `\\\\` escape character will represent the backslash character in a string."
   ]
  },
  {
   "cell_type": "markdown",
   "metadata": {},
   "source": [
    "______________________________________________________________"
   ]
  },
  {
   "cell_type": "markdown",
   "metadata": {},
   "source": [
    "**4.The string \"Howl's Moving Castle\" is a correct value. Why isn't the single quote character in the word Howl's not escaped a problem ?**<br><br>\n",
    "**Ans:**<br> The string `\"Howl's Moving Castle\"` escaped the problem because it is wrapped inside double quotes. if its wrapped inside single quotes then we have to use escape character `\\'` to show single quote in the final output \n",
    "`'Howl\\'s Moving Castle'` **`->`** `'Howl's Moving Castle'`."
   ]
  },
  {
   "cell_type": "markdown",
   "metadata": {},
   "source": [
    "_____________________________________________________________"
   ]
  },
  {
   "cell_type": "markdown",
   "metadata": {},
   "source": [
    "**5.How do you write a string of newlines if you don't want to use the n character?**<br><br>\n",
    "**Ans:**<br>Multiline string allow you to use newlines in string without the `\\n` escape character  .<br><br>\n",
    "**Example--**\n"
   ]
  },
  {
   "cell_type": "code",
   "execution_count": 2,
   "metadata": {},
   "outputs": [
    {
     "name": "stdout",
     "output_type": "stream",
     "text": [
      "I am Pravat.I wanna be a Data Scientist.\n",
      "I am from WB.\n"
     ]
    }
   ],
   "source": [
    "a = '''I am Pravat.I wanna be a Data Scientist.\n",
    "I am from WB.'''\n",
    "print(a)"
   ]
  },
  {
   "cell_type": "markdown",
   "metadata": {},
   "source": [
    "_____________________________________________________"
   ]
  },
  {
   "cell_type": "markdown",
   "metadata": {},
   "source": [
    "**6.What are the values of the given expressions ?**<br><br>\n",
    "- 'Hello, world!'[1]  \n",
    "- 'Hello, world!'[0:5]  \n",
    "- 'Hello, world!'[:5]  \n",
    "- 'Hello, world!'[3:]  "
   ]
  },
  {
   "cell_type": "markdown",
   "metadata": {},
   "source": [
    "**Ans:**<br> The values for the given expressions are:<br>  \n",
    "- 'Hello, world!'[1] **`->`**  `'e'`  \n",
    "- 'Hello, world!'[0:5] **`->`**  `'Hello'`  \n",
    "- 'Hello, world!'[:5] **`->`**  `'Hello'`  \n",
    "- 'Hello, world!'[3:] **`->`**  `'lo, world!'`"
   ]
  },
  {
   "cell_type": "markdown",
   "metadata": {},
   "source": [
    "______________________________________________________________"
   ]
  },
  {
   "cell_type": "markdown",
   "metadata": {},
   "source": [
    "**7.What are the values of the following expressions ?**<br>\n",
    "- 'Hello'.upper()  \n",
    "- 'Hello'.upper().isupper()  \n",
    "- 'Hello'.upper().lower()<br><br>    \n",
    "\n",
    "**Ans:**<br> The values for the given expressions are:  \n",
    "- 'Hello'.upper() **`->`** `'HELLO'`  \n",
    "- 'Hello'.upper().isupper() **`->`**  `True`    \n",
    "- 'Hello'.upper().lower() **`->`** `'hello'`  "
   ]
  },
  {
   "cell_type": "markdown",
   "metadata": {},
   "source": [
    "_____________________________________________________________________________"
   ]
  },
  {
   "cell_type": "markdown",
   "metadata": {},
   "source": [
    "**8.What are the values of the following expressions ?**<br>\n",
    "- 'Remember, remember, the fifith of July.'.split()  \n",
    "- '-'.join('There can only one'.split())\n",
    "\n",
    "**Ans:**<br> The values for the given expressions are:<br>  \n",
    "- 'Remember, remember, the fifith of July.'.split()  **`->`** `['Remember,', 'remember,', 'the', 'fifith', 'of', 'July.']`  \n",
    "- '-'.join('There can only one'.split()) **`->`** `'There-can-only-one'` "
   ]
  },
  {
   "cell_type": "markdown",
   "metadata": {},
   "source": [
    "____________________________________________________________"
   ]
  },
  {
   "cell_type": "markdown",
   "metadata": {},
   "source": [
    "**9.What are the methods for right-justifying, left-justifying and centering a string ?**<br><br>\n",
    "**Ans:**<br> The `rjust()`,`ljust()`,`center()` string methods, respectively."
   ]
  },
  {
   "cell_type": "markdown",
   "metadata": {},
   "source": [
    "________________________________________________________________________"
   ]
  },
  {
   "cell_type": "markdown",
   "metadata": {},
   "source": [
    "**10.What is the best way to remove whitespace characters from the start or end ?**<br><br>\n",
    "**Ans:**<br> The `lstrip()` and `rstrip()` methods remove whitesapce characters from the left and right ends of a string respectively."
   ]
  },
  {
   "cell_type": "markdown",
   "metadata": {},
   "source": [
    "_____________________________________________________"
   ]
  },
  {
   "cell_type": "markdown",
   "metadata": {},
   "source": [
    "### _____________The END___________________________"
   ]
  }
 ],
 "metadata": {
  "kernelspec": {
   "display_name": "Python 3 (ipykernel)",
   "language": "python",
   "name": "python3"
  },
  "language_info": {
   "codemirror_mode": {
    "name": "ipython",
    "version": 3
   },
   "file_extension": ".py",
   "mimetype": "text/x-python",
   "name": "python",
   "nbconvert_exporter": "python",
   "pygments_lexer": "ipython3",
   "version": "3.9.13"
  }
 },
 "nbformat": 4,
 "nbformat_minor": 4
}
