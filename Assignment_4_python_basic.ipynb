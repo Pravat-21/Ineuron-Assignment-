{
 "cells": [
  {
   "cell_type": "markdown",
   "id": "41bc56d1",
   "metadata": {},
   "source": [
    "## Assignment_4 :"
   ]
  },
  {
   "cell_type": "markdown",
   "id": "4d2ed0e4",
   "metadata": {},
   "source": [
    "**1.What exactly is `[]`?**<br><br>\n",
    "**Ans :**<br>\n",
    "- The empty list represented by `[]`.\n",
    "- This is a list that contains no items."
   ]
  },
  {
   "cell_type": "markdown",
   "id": "c492f2a8",
   "metadata": {},
   "source": [
    "__________________________________________________________"
   ]
  },
  {
   "cell_type": "markdown",
   "id": "b6e56852",
   "metadata": {},
   "source": [
    "**2.In a list of values stored in a variable called spam, how would you assign the value 'hello' as the third value? (Assume [2, 4, 6, 8, 10] are in spam.)** <br><br>\n",
    "**Ans:** `spam[2]='hello'`"
   ]
  },
  {
   "cell_type": "markdown",
   "id": "9f4cba5e",
   "metadata": {},
   "source": [
    "**For an example :**"
   ]
  },
  {
   "cell_type": "code",
   "execution_count": 2,
   "id": "737fb672",
   "metadata": {},
   "outputs": [
    {
     "name": "stdout",
     "output_type": "stream",
     "text": [
      "[1, 5, 6, 'PP']\n",
      "[1, 5, 'hello', 'PP']\n"
     ]
    }
   ],
   "source": [
    "spam=[1,5,6,'PP']\n",
    "print(spam)\n",
    "spam[2]='hello'\n",
    "print(spam)"
   ]
  },
  {
   "cell_type": "markdown",
   "id": "1d205ddb",
   "metadata": {},
   "source": [
    "________________________________________________"
   ]
  },
  {
   "cell_type": "markdown",
   "id": "423f2578",
   "metadata": {},
   "source": [
    "### Let's pretend the spam includes the list ['a','b','c',d'] for the next three queries."
   ]
  },
  {
   "cell_type": "markdown",
   "id": "c3093377",
   "metadata": {},
   "source": [
    "**3. What is the value of `spam[int(int('3'*2)//11)]` ?**<br><br>\n",
    "**Ans :**<br> `'d'` (Note that '3' * 2 is the string '33', which is passed to int() before being divided by 11.\n",
    "     This eventually evaluates to 3, `spam[3]` is equal to `d`.)"
   ]
  },
  {
   "cell_type": "code",
   "execution_count": 4,
   "id": "338984fe",
   "metadata": {},
   "outputs": [
    {
     "name": "stdout",
     "output_type": "stream",
     "text": [
      "spam[int(int('3'*2)//11)] value is d\n"
     ]
    }
   ],
   "source": [
    "spam=['a','b','c','d']\n",
    "print(\"spam[int(int('3'*2)//11)] value is\",spam[int(int('3'*2)//11)])"
   ]
  },
  {
   "cell_type": "markdown",
   "id": "f73b645d",
   "metadata": {},
   "source": [
    "_________________________________________________"
   ]
  },
  {
   "cell_type": "markdown",
   "id": "9e1182c8",
   "metadata": {},
   "source": [
    "**4. What is the value of spam[-1]?**<br><br>\n",
    "**Ans:**<br> `'d'` (Lists support Negative indexing, Hence `spam[-1]` returs `'d'`)"
   ]
  },
  {
   "cell_type": "code",
   "execution_count": 6,
   "id": "ee415de9",
   "metadata": {},
   "outputs": [
    {
     "name": "stdout",
     "output_type": "stream",
     "text": [
      "spam[-1] is  d\n"
     ]
    }
   ],
   "source": [
    "spam=['a','b','c','d']\n",
    "print('spam[-1] is ',spam[-1])"
   ]
  },
  {
   "cell_type": "markdown",
   "id": "5bfa212f",
   "metadata": {},
   "source": [
    "_________________________________________"
   ]
  },
  {
   "cell_type": "markdown",
   "id": "95920e0b",
   "metadata": {},
   "source": [
    "**5. What is the value of spam[:2]?**<br><br>\n",
    "**Ans:**<br> `spam[:2]` returns all elements in the list spam from 0 to 2 excluding 2 ."
   ]
  },
  {
   "cell_type": "code",
   "execution_count": 7,
   "id": "19c06353",
   "metadata": {},
   "outputs": [
    {
     "name": "stdout",
     "output_type": "stream",
     "text": [
      "['a', 'b', 'c', 'd']\n",
      "['a', 'b']\n"
     ]
    }
   ],
   "source": [
    "print(spam)\n",
    "print(spam[:2])"
   ]
  },
  {
   "cell_type": "markdown",
   "id": "a770645e",
   "metadata": {},
   "source": [
    "_______________________________________________________"
   ]
  },
  {
   "cell_type": "markdown",
   "id": "0c597670",
   "metadata": {},
   "source": [
    "### Let's pretend bacon has the list [3.14,'cat',11,'cat',True] for the next three question"
   ]
  },
  {
   "cell_type": "markdown",
   "id": "4532aa75",
   "metadata": {},
   "source": [
    "**6. What is the value of bacon.index('cat')?**"
   ]
  },
  {
   "cell_type": "markdown",
   "id": "b6d1d5fe",
   "metadata": {},
   "source": [
    "**Ans:** The value of `bacon.index('cat')` is `1` (Note: index method returns the index of first occuerence of `'cat'`)"
   ]
  },
  {
   "cell_type": "code",
   "execution_count": 16,
   "id": "29ad2c43",
   "metadata": {},
   "outputs": [
    {
     "name": "stdout",
     "output_type": "stream",
     "text": [
      "bacon.index('cat') is  1\n"
     ]
    }
   ],
   "source": [
    "bacon=[3.14,'cat',11,'cat',True]\n",
    "print(\"bacon.index('cat') is \",bacon.index('cat'))"
   ]
  },
  {
   "cell_type": "markdown",
   "id": "c99e5fdf",
   "metadata": {},
   "source": [
    "__________________________________________________________________"
   ]
  },
  {
   "cell_type": "markdown",
   "id": "a6315daa",
   "metadata": {},
   "source": [
    "**7. How does bacon.append(99) change the look of the list value in bacon?**<br><br>\n",
    "**Ans:**<br> The `append` method adds new elements to the end of the list.<br><br>\n",
    "**Example -**"
   ]
  },
  {
   "cell_type": "code",
   "execution_count": 17,
   "id": "be0ebd05",
   "metadata": {},
   "outputs": [
    {
     "name": "stdout",
     "output_type": "stream",
     "text": [
      "[3.14, 'cat', 11, 'cat', True]\n",
      "[3.14, 'cat', 11, 'cat', True, 99]\n"
     ]
    }
   ],
   "source": [
    "print(bacon)\n",
    "bacon.append(99)\n",
    "print(bacon)"
   ]
  },
  {
   "cell_type": "markdown",
   "id": "41be0a1a",
   "metadata": {},
   "source": [
    "___________________________________________"
   ]
  },
  {
   "cell_type": "markdown",
   "id": "85e81927",
   "metadata": {},
   "source": [
    "**8. How does bacon.remove('cat') change the look of the list in bacon?**<br><br>\n",
    "**Ans:**<br> The `remove` method removes the first occurence of the element in the list"
   ]
  },
  {
   "cell_type": "code",
   "execution_count": 18,
   "id": "c3aca074",
   "metadata": {},
   "outputs": [
    {
     "name": "stdout",
     "output_type": "stream",
     "text": [
      "[3.14, 'cat', 11, 'cat', True, 99]\n",
      "[3.14, 11, 'cat', True, 99]\n"
     ]
    }
   ],
   "source": [
    "print(bacon)\n",
    "bacon.remove('cat')\n",
    "print(bacon)"
   ]
  },
  {
   "cell_type": "markdown",
   "id": "d01ac490",
   "metadata": {},
   "source": [
    "____________________________________________\n",
    "\n"
   ]
  },
  {
   "cell_type": "markdown",
   "id": "cdbe3c4a",
   "metadata": {},
   "source": [
    "**9.what are the list concatenation and list replication operations?**<br><br>\n",
    "**Ans:**<br> The operator for list concatenation is `+`, while the operator for replication is `*`. (This is the same as for strings.)<br><br>\n",
    "**Example--**"
   ]
  },
  {
   "cell_type": "code",
   "execution_count": 19,
   "id": "bd9dc39a",
   "metadata": {},
   "outputs": [
    {
     "name": "stdout",
     "output_type": "stream",
     "text": [
      "['ML', 'DL', 'AI', 'CV', 'NLP', 'RNN', 'CNN', 'SVN']\n",
      "['RNN', 'CNN', 'SVN', 'RNN', 'CNN', 'SVN']\n"
     ]
    }
   ],
   "source": [
    "list_1 = ['ML','DL','AI','CV','NLP']\n",
    "list_2 = ['RNN','CNN','SVN']\n",
    "print(list_1 + list_2) \n",
    "print(list_2*2)"
   ]
  },
  {
   "cell_type": "markdown",
   "id": "7865ef07",
   "metadata": {},
   "source": [
    "____________________________________________"
   ]
  },
  {
   "cell_type": "markdown",
   "id": "d4f9b87c",
   "metadata": {},
   "source": [
    "**10.what is the difference between the list method append() and insert()?**<br><br>\n",
    "**Ans:**<br> While `append()` will add values only to the end of a list, `insert()` can add them anywhere in the list.<br><br>\n",
    "**Example--**"
   ]
  },
  {
   "cell_type": "code",
   "execution_count": 20,
   "id": "e2901ff6",
   "metadata": {},
   "outputs": [
    {
     "name": "stdout",
     "output_type": "stream",
     "text": [
      "[1, 2, 3, 4, 5, 6]\n",
      "[1, 2, 'Demo', 3, 4, 5, 6]\n"
     ]
    }
   ],
   "source": [
    "list = [1,2,3,4,5]\n",
    "list.append(6)\n",
    "print(list)\n",
    "list.insert(2,'Demo')\n",
    "print(list)"
   ]
  },
  {
   "cell_type": "markdown",
   "id": "5bb30f63",
   "metadata": {},
   "source": [
    "____________________________________________________"
   ]
  },
  {
   "cell_type": "markdown",
   "id": "3b178c74",
   "metadata": {},
   "source": [
    "**11. What are the two methods for removing items from a list?**<br><br>\n",
    "**Ans:**<br> The `del` statement and the `remove()` method are two ways to remove values from a list."
   ]
  },
  {
   "cell_type": "markdown",
   "id": "add72fd3",
   "metadata": {},
   "source": [
    "___________________________________________________"
   ]
  },
  {
   "cell_type": "markdown",
   "id": "3811c0e8",
   "metadata": {},
   "source": [
    "**12. Describe how list values and string values are identical.**<br><br>\n",
    "**Ans:**<br> Both lists and strings can be passed to `len()` function, have indexes and slices, be used in `for` loops, be concatenated or replicated, and be used with the `in` and `not in` operators."
   ]
  },
  {
   "cell_type": "markdown",
   "id": "2482b80f",
   "metadata": {},
   "source": [
    "____________________________________________________________________"
   ]
  },
  {
   "cell_type": "markdown",
   "id": "4845136b",
   "metadata": {},
   "source": [
    "**13. What's the difference between tuples and lists?**<br><br>\n",
    "**Ans:**<br> Lists are `Mutable`, `Indexable` and `Slicable`. they can have values added, removed, or changed. Tuples are `Immutable` but `Indexable` and `Slicable`. the tuple values cannot be changed at all. Also, tuples are represented using parentheses, `()`, while lists use the square brackets, `[]`."
   ]
  },
  {
   "cell_type": "markdown",
   "id": "f50de378",
   "metadata": {},
   "source": [
    "_________________________________________________________"
   ]
  },
  {
   "cell_type": "markdown",
   "id": "7fa16181",
   "metadata": {},
   "source": [
    "**14. How do you type a tuple value that only contains the integer 42?**<br><br>\n",
    "**Ans:**<br>(42,) (The trailing comma is mandatory. otherwise its considered as a int by python Interpreter).<br><br>\n",
    "**Example--**"
   ]
  },
  {
   "cell_type": "code",
   "execution_count": 10,
   "id": "20c9775f",
   "metadata": {},
   "outputs": [
    {
     "name": "stdout",
     "output_type": "stream",
     "text": [
      "<class 'int'>\n",
      "<class 'tuple'>\n"
     ]
    }
   ],
   "source": [
    "tup1=(42)\n",
    "tup2=(42,)\n",
    "print(type(tup1))\n",
    "print(type(tup2))"
   ]
  },
  {
   "cell_type": "markdown",
   "id": "1b3d8802",
   "metadata": {},
   "source": [
    "______________________________________________________"
   ]
  },
  {
   "cell_type": "markdown",
   "id": "42d87c87",
   "metadata": {},
   "source": [
    "**15. How do you get a list value's tuple form? How do you get a tuple value's list form?**<br><br>\n",
    "**Ans:**<br> The `tuple()` and `list()` functions, respectively are used to convert a list to tuple and vice versa."
   ]
  },
  {
   "cell_type": "markdown",
   "id": "586c589e",
   "metadata": {},
   "source": [
    "________________________________________________________"
   ]
  },
  {
   "cell_type": "markdown",
   "id": "eac0fa89",
   "metadata": {},
   "source": [
    "**16. Variables that &quot;contain&quot; list values are not necessarily lists themselves. Instead, what do they contain?**<br><br>\n",
    "**Ans**:<br> They contain references to list values."
   ]
  },
  {
   "cell_type": "markdown",
   "id": "9cb3d6a5",
   "metadata": {},
   "source": [
    "___________________________________________"
   ]
  },
  {
   "cell_type": "markdown",
   "id": "c0f78aa7",
   "metadata": {},
   "source": [
    "**17. How do you distinguish between copy.copy() and copy.deepcopy()?**<br><br>\n",
    "**Ans:**<br> The `copy.copy()` function will do a shallow copy of a list, while the `copy.deepcopy()` function will do a deep copy of a list. That is, only `copy.deepcopy()` will duplicate any lists inside the list."
   ]
  },
  {
   "cell_type": "markdown",
   "id": "23d641e1",
   "metadata": {},
   "source": [
    "**______________________The END__________________________________**"
   ]
  }
 ],
 "metadata": {
  "kernelspec": {
   "display_name": "Python 3 (ipykernel)",
   "language": "python",
   "name": "python3"
  },
  "language_info": {
   "codemirror_mode": {
    "name": "ipython",
    "version": 3
   },
   "file_extension": ".py",
   "mimetype": "text/x-python",
   "name": "python",
   "nbconvert_exporter": "python",
   "pygments_lexer": "ipython3",
   "version": "3.9.13"
  }
 },
 "nbformat": 4,
 "nbformat_minor": 5
}
