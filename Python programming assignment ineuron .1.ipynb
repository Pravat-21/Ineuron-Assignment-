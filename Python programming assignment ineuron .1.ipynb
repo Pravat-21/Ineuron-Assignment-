{
 "cells": [
  {
   "cell_type": "markdown",
   "id": "34c606c1",
   "metadata": {},
   "source": [
    "1. Write a Python program to print &quot;Hello Python&quot;?"
   ]
  },
  {
   "cell_type": "code",
   "execution_count": 4,
   "id": "03ed9faf",
   "metadata": {},
   "outputs": [
    {
     "name": "stdout",
     "output_type": "stream",
     "text": [
      "\"Hello Python\"\n"
     ]
    }
   ],
   "source": [
    "print('\"Hello Python\"')"
   ]
  },
  {
   "cell_type": "markdown",
   "id": "3c8eaeba",
   "metadata": {},
   "source": [
    "________________________________"
   ]
  },
  {
   "cell_type": "markdown",
   "id": "023e47c7",
   "metadata": {},
   "source": [
    "2. Write a Python program to do arithmetical operations addition and division.?"
   ]
  },
  {
   "cell_type": "code",
   "execution_count": 11,
   "id": "988a9479",
   "metadata": {},
   "outputs": [
    {
     "name": "stdout",
     "output_type": "stream",
     "text": [
      "How many number you what to add 3\n",
      "Enter the 1th number : 12.1\n",
      "Enter the 2th number : 10\n",
      "Enter the 3th number : 12.5\n",
      "The addition of these number is:  34.6\n"
     ]
    }
   ],
   "source": [
    "x=int(input(\"How many number you what to add \"))\n",
    "a1=[]\n",
    "for i in range(1,x+1):\n",
    "    y=eval(input(f\"Enter the {i}th number : \"))\n",
    "    a1.append(y)\n",
    "x=0    \n",
    "for i in a1:\n",
    "    x=x+i\n",
    "print(\"The addition of these number is: \" ,x)        "
   ]
  },
  {
   "cell_type": "code",
   "execution_count": 13,
   "id": "b10104cf",
   "metadata": {},
   "outputs": [
    {
     "name": "stdout",
     "output_type": "stream",
     "text": [
      "Enter the dividend :12.2\n",
      "Enter the divisor : 2\n",
      "The result is  6.1\n"
     ]
    }
   ],
   "source": [
    "x=eval(input('Enter the dividend :'))\n",
    "y=eval(input(\"Enter the divisor : \"))\n",
    "z=x/y\n",
    "print(\"The result is \",z)"
   ]
  },
  {
   "cell_type": "markdown",
   "id": "ab617df7",
   "metadata": {},
   "source": [
    "_________________________________"
   ]
  },
  {
   "cell_type": "markdown",
   "id": "6fcc2ff5",
   "metadata": {},
   "source": [
    "3. Write a Python program to find the area of a triangle?"
   ]
  },
  {
   "cell_type": "code",
   "execution_count": 17,
   "id": "3ddbfab3",
   "metadata": {},
   "outputs": [
    {
     "name": "stdout",
     "output_type": "stream",
     "text": [
      "Enter the base of the triangle: 12\n",
      "Enter the hight of the triangle: 4\n",
      "The area of the triangle is 24.0 unit.sq\n"
     ]
    }
   ],
   "source": [
    "b=eval(input(\"Enter the base of the triangle: \"))\n",
    "h=eval(input(\"Enter the hight of the triangle: \"))\n",
    "a=(1/2)*b*h\n",
    "print(f\"The area of the triangle is {a} unit.sq\")"
   ]
  },
  {
   "cell_type": "markdown",
   "id": "d6b50228",
   "metadata": {},
   "source": [
    "_________________________________________"
   ]
  },
  {
   "cell_type": "markdown",
   "id": "4ec8f31f",
   "metadata": {},
   "source": [
    "4. Write a Python program to swap two variables?"
   ]
  },
  {
   "cell_type": "code",
   "execution_count": 25,
   "id": "986b113e",
   "metadata": {},
   "outputs": [
    {
     "name": "stdout",
     "output_type": "stream",
     "text": [
      "Enter the number as in variable x :12\n",
      "Enter the number as in variable y :1\n",
      "After swaping , x is now 1 and y is now 12\n",
      "\n"
     ]
    }
   ],
   "source": [
    "x=eval(input(\"Enter the number as in variable x :\"))\n",
    "y=eval(input(\"Enter the number as in variable y :\"))\n",
    "z,x,y=x,y,z\n",
    "print(f\"After swaping , x is now {x} and y is now {y}\")\n",
    "print()"
   ]
  },
  {
   "cell_type": "markdown",
   "id": "cb8f0c82",
   "metadata": {},
   "source": [
    "__________________________________"
   ]
  },
  {
   "cell_type": "markdown",
   "id": "4a10bf7a",
   "metadata": {},
   "source": [
    "5. Write a Python program to generate a random number?"
   ]
  },
  {
   "cell_type": "code",
   "execution_count": 39,
   "id": "27916bd7",
   "metadata": {},
   "outputs": [
    {
     "name": "stdout",
     "output_type": "stream",
     "text": [
      "Enter the number from where you want to start the range  :12\n",
      "Enter the number , where you want to end the range   :40\n",
      "25\n"
     ]
    }
   ],
   "source": [
    "x=eval(input(\"Enter the number from where you want to start the range  :\"))\n",
    "y=eval(input(\"Enter the number , where you want to end the range   :\"))\n",
    "print(random.randint(x,y))"
   ]
  },
  {
   "cell_type": "markdown",
   "id": "9bee65e4",
   "metadata": {},
   "source": [
    "____________________________________"
   ]
  },
  {
   "cell_type": "markdown",
   "id": "bdf775b4",
   "metadata": {},
   "source": [
    "______________The End ___________________"
   ]
  },
  {
   "cell_type": "code",
   "execution_count": null,
   "id": "7969c5a6",
   "metadata": {},
   "outputs": [],
   "source": []
  }
 ],
 "metadata": {
  "kernelspec": {
   "display_name": "Python 3",
   "language": "python",
   "name": "python3"
  },
  "language_info": {
   "codemirror_mode": {
    "name": "ipython",
    "version": 3
   },
   "file_extension": ".py",
   "mimetype": "text/x-python",
   "name": "python",
   "nbconvert_exporter": "python",
   "pygments_lexer": "ipython3",
   "version": "3.8.8"
  }
 },
 "nbformat": 4,
 "nbformat_minor": 5
}
