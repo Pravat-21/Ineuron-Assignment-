{
 "cells": [
  {
   "cell_type": "markdown",
   "id": "a1b478e2",
   "metadata": {},
   "source": [
    "1. Write a Python program to convert kilometers to miles?"
   ]
  },
  {
   "cell_type": "code",
   "execution_count": 2,
   "id": "59b76792",
   "metadata": {},
   "outputs": [
    {
     "name": "stdout",
     "output_type": "stream",
     "text": [
      "Enter the unit of  measurement in kilometers : 12\n",
      "Your measurement in kilometers is equals to 7.456454279999999 miles.\n"
     ]
    }
   ],
   "source": [
    "x=eval(input(\"Enter the unit of  measurement in kilometers : \"))\n",
    "y=x*0.62137119\n",
    "print(f\"Your measurement in kilometers is equals to {y} miles.\")"
   ]
  },
  {
   "cell_type": "markdown",
   "id": "8580d9ad",
   "metadata": {},
   "source": [
    "__________________________________"
   ]
  },
  {
   "cell_type": "markdown",
   "id": "e98ea6f0",
   "metadata": {},
   "source": [
    "2. Write a Python program to convert Celsius to Fahrenheit?"
   ]
  },
  {
   "cell_type": "code",
   "execution_count": 3,
   "id": "c408e87e",
   "metadata": {},
   "outputs": [
    {
     "name": "stdout",
     "output_type": "stream",
     "text": [
      "Give the reading of temparature in celsius :34\n",
      "The conversion of your temparture in fahrenheit is 93.2 degree F .\n"
     ]
    }
   ],
   "source": [
    "x=eval(input(\"Give the reading of temparature in celsius :\"))\n",
    "y=((9/5)*x)+32\n",
    "print(f\"The conversion of your temparture in fahrenheit is {y} degree F .\")"
   ]
  },
  {
   "cell_type": "markdown",
   "id": "f500cf05",
   "metadata": {},
   "source": [
    "______________________________"
   ]
  },
  {
   "cell_type": "markdown",
   "id": "007f6ae8",
   "metadata": {},
   "source": [
    "3. Write a Python program to display calendar?"
   ]
  },
  {
   "cell_type": "code",
   "execution_count": 10,
   "id": "bfdd890f",
   "metadata": {},
   "outputs": [
    {
     "name": "stdout",
     "output_type": "stream",
     "text": [
      "Enter the year :2022\n",
      "Enter the month :10\n",
      "    October 2022\n",
      "Mo Tu We Th Fr Sa Su\n",
      "                1  2\n",
      " 3  4  5  6  7  8  9\n",
      "10 11 12 13 14 15 16\n",
      "17 18 19 20 21 22 23\n",
      "24 25 26 27 28 29 30\n",
      "31\n",
      "\n"
     ]
    }
   ],
   "source": [
    "import calendar\n",
    "y=int(input(\"Enter the year :\"))\n",
    "m=int(input(\"Enter the month :\"))\n",
    "print(calendar.month(y,m))"
   ]
  },
  {
   "cell_type": "markdown",
   "id": "f914621d",
   "metadata": {},
   "source": [
    "____________________________"
   ]
  },
  {
   "cell_type": "markdown",
   "id": "7e0d7cbd",
   "metadata": {},
   "source": [
    "4. Write a Python program to solve quadratic equation?"
   ]
  },
  {
   "cell_type": "code",
   "execution_count": 16,
   "id": "5cd56403",
   "metadata": {},
   "outputs": [
    {
     "name": "stdout",
     "output_type": "stream",
     "text": [
      "The genaral form of the quadratic euation is ax**2+bx+c=0\n",
      "Enter the value of a :1\n",
      "Enter the value of b:-7\n",
      "Enter the value of c:10\n",
      "Your Equation is 1x**2+-7x+10=0 \n",
      "Roots of this euation are 2.0 and 5.0 . \n"
     ]
    }
   ],
   "source": [
    "print(\"The genaral form of the quadratic euation is ax**2+bx+c=0\")\n",
    "a=eval(input(\"Enter the value of a :\"))\n",
    "b=eval(input(\"Enter the value of b:\"))\n",
    "c=eval(input(\"Enter the value of c:\"))\n",
    "print(f\"Your Equation is {a}x**2+{b}x+{c}=0 \")\n",
    "x=(-(b+((b**2)-4*a*c)**(1/2)))/(2*a)\n",
    "y=(-(b-((b**2)-4*a*c)**(1/2)))/(2*a)\n",
    "print(f\"Roots of this euation are {x} and {y} . \")"
   ]
  },
  {
   "cell_type": "markdown",
   "id": "9453153d",
   "metadata": {},
   "source": [
    "______________________________"
   ]
  },
  {
   "cell_type": "markdown",
   "id": "5b96e0c9",
   "metadata": {},
   "source": [
    "5. Write a Python program to swap two variables without temp variable?"
   ]
  },
  {
   "cell_type": "code",
   "execution_count": 17,
   "id": "d6a708e8",
   "metadata": {},
   "outputs": [
    {
     "name": "stdout",
     "output_type": "stream",
     "text": [
      "Enter the value as x :12\n",
      "Enter the value as y :2\n",
      "Before swaping the value of x and y are 12 and 2.\n",
      "After swaping the value of x and y are 2 and 12.\n"
     ]
    }
   ],
   "source": [
    "x=eval(input(\"Enter the value as x :\"))\n",
    "y=eval(input(\"Enter the value as y :\"))\n",
    "print(f\"Before swaping the value of x and y are {x} and {y}.\")\n",
    "x,y=y,x\n",
    "print(f\"After swaping the value of x and y are {x} and {y}.\")"
   ]
  },
  {
   "cell_type": "markdown",
   "id": "9e2b8bbb",
   "metadata": {},
   "source": [
    "________________________________"
   ]
  },
  {
   "cell_type": "markdown",
   "id": "7fe9a053",
   "metadata": {},
   "source": [
    "_________________ The End ____________________"
   ]
  },
  {
   "cell_type": "code",
   "execution_count": null,
   "id": "638de0bb",
   "metadata": {},
   "outputs": [],
   "source": []
  }
 ],
 "metadata": {
  "kernelspec": {
   "display_name": "Python 3",
   "language": "python",
   "name": "python3"
  },
  "language_info": {
   "codemirror_mode": {
    "name": "ipython",
    "version": 3
   },
   "file_extension": ".py",
   "mimetype": "text/x-python",
   "name": "python",
   "nbconvert_exporter": "python",
   "pygments_lexer": "ipython3",
   "version": "3.8.8"
  }
 },
 "nbformat": 4,
 "nbformat_minor": 5
}
