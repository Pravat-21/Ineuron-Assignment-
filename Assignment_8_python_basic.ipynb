{
 "cells": [
  {
   "cell_type": "markdown",
   "id": "bd4844c1",
   "metadata": {},
   "source": [
    "## Assignment_8 : "
   ]
  },
  {
   "cell_type": "markdown",
   "id": "215594ca",
   "metadata": {},
   "source": [
    "**1. Is the Python Standard Library included with PyInputPlus?**<br><br>\n",
    "**Ans:**<br> No, **`PyInputPlus`** is not a part of Python Standard Library, it needs to be installed explicitly using the command **`!pip install PyInputPlus`**."
   ]
  },
  {
   "cell_type": "markdown",
   "id": "68b57f45",
   "metadata": {},
   "source": [
    "_______________________________________________________"
   ]
  },
  {
   "cell_type": "markdown",
   "id": "76a769e0",
   "metadata": {},
   "source": [
    "**2. Why is PyInputPlus commonly imported with import pyinputplus as pypi?**<br><br>\n",
    "**Ans:**<br> You can import the module with **`import pyinputplus as pyip`** so that you can enter a shorter name when calling the module's functions."
   ]
  },
  {
   "cell_type": "markdown",
   "id": "499848e8",
   "metadata": {},
   "source": [
    "________________________________________________________________"
   ]
  },
  {
   "cell_type": "markdown",
   "id": "5d578dfb",
   "metadata": {},
   "source": [
    "**3. How do you distinguish between `inputInt()` and `inputFloat()`?**<br><br>\n",
    "**Ans:**<br> **`inputInt()`** function Accepts an integer value. This also takes additional parameters **`min`**, **`max`**, **`greaterThan`** and **`lessThan`** for bounds. And it always returns an int.\n",
    "\n",
    "Whereas **`inputFloat()`** function Accepts a floating-point numeric value. this also takes additional **`min`**, **`max`**, **`greaterThan`** and **`lessThan`** parameters. and always returns a float."
   ]
  },
  {
   "cell_type": "markdown",
   "id": "b34c3388",
   "metadata": {},
   "source": [
    "____________________________________________"
   ]
  },
  {
   "cell_type": "markdown",
   "id": "5a276409",
   "metadata": {},
   "source": [
    "**4. Using PyInputPlus, how do you ensure that the user enters a whole number between 0 and 99?**<br><br>\n",
    "**Ans:**<br> **`PyInputPlus`** module provides a function called as **`inputInt()`** which only returns only integer values. inorder to restrict the input between 0 and 99, i'ii use parameters like **`min`** & **`max`** to ensure that user enters the values between the defined range only.\n",
    "\n",
    "`import pyinputplus as pyip`  \n",
    "`wholenumber = pyip.inputInt(prompt='Enter a number: ', min=0, max=100)`   \n",
    "`print(wholenumber)`  "
   ]
  },
  {
   "cell_type": "markdown",
   "id": "359e7e09",
   "metadata": {},
   "source": [
    "_________________________________________________"
   ]
  },
  {
   "cell_type": "markdown",
   "id": "a3266159",
   "metadata": {},
   "source": [
    "**5. What is transferred to the keyword arguments allowRegexes and blockRegexes?**<br><br>\n",
    "**Ans:**<br> we can use **`allowRegexes`** and **`blockRegexes`** keyword arguments to take list of regular expression strings to determine what the pyinputplus function will reject or accept valid input."
   ]
  },
  {
   "cell_type": "markdown",
   "id": "e2ebc3c1",
   "metadata": {},
   "source": [
    "_____________________________________________________________________"
   ]
  },
  {
   "cell_type": "markdown",
   "id": "20251b09",
   "metadata": {},
   "source": [
    "**6. If a blank input is entered three times, what does inputStr(limit=3) do?**<br><br>\n",
    "**Ans:**<br> The statement **`inputStr(limit=3)`** will throw two exceptions **`ValidationException`** and **`RetryLimitException`**. The first exception is thrown because blank values are not allowed by inputStr() function by default. it we want to consider blank values as valid input, we have to set **`blank=True`**.\n",
    "\n",
    "The second exception is occured because we have reached the max limit we have specified by using **`limit`** parameter. inorder to avoid this exception we can use **`default`** parameter to return a default value when max limit is reached."
   ]
  },
  {
   "cell_type": "markdown",
   "id": "8a06809f",
   "metadata": {},
   "source": [
    "_____________________________________________________________________"
   ]
  },
  {
   "cell_type": "markdown",
   "id": "a57b26ea",
   "metadata": {},
   "source": [
    "**7. If blank input is entered three times, what does inputStr(limit=3, default='hello') do?**<br><br>\n",
    "**Ans:**<br> Since the default parameter is set to **`hello`**. after blank input is entered three times instead of raising **`RetryLimitException`** exception. the function will return **`hello`** as response to the calling function"
   ]
  },
  {
   "cell_type": "markdown",
   "id": "70e77014",
   "metadata": {},
   "source": [
    "_______________________________________________________"
   ]
  },
  {
   "cell_type": "markdown",
   "id": "4d2e957f",
   "metadata": {},
   "source": [
    "**____________________________The END_______________________________**"
   ]
  }
 ],
 "metadata": {
  "kernelspec": {
   "display_name": "Python 3 (ipykernel)",
   "language": "python",
   "name": "python3"
  },
  "language_info": {
   "codemirror_mode": {
    "name": "ipython",
    "version": 3
   },
   "file_extension": ".py",
   "mimetype": "text/x-python",
   "name": "python",
   "nbconvert_exporter": "python",
   "pygments_lexer": "ipython3",
   "version": "3.9.13"
  }
 },
 "nbformat": 4,
 "nbformat_minor": 5
}
