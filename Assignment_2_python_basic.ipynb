{
 "cells": [
  {
   "cell_type": "markdown",
   "id": "0a72c3b2",
   "metadata": {},
   "source": [
    "# Assignment_2"
   ]
  },
  {
   "cell_type": "markdown",
   "id": "7ac4ac2b",
   "metadata": {},
   "source": [
    "**1.What are the two values of the Boolean data type? How do you write them?**"
   ]
  },
  {
   "cell_type": "raw",
   "id": "b28b036c",
   "metadata": {},
   "source": [
    "There are two types of Boolean data.One is True and the other one is False.For representation of both the word ,the first letter should be in capital and rest of the word in small letter."
   ]
  },
  {
   "cell_type": "code",
   "execution_count": 1,
   "id": "4170fb02",
   "metadata": {},
   "outputs": [
    {
     "data": {
      "text/plain": [
       "True"
      ]
     },
     "execution_count": 1,
     "metadata": {},
     "output_type": "execute_result"
    }
   ],
   "source": [
    "True"
   ]
  },
  {
   "cell_type": "code",
   "execution_count": 2,
   "id": "33f77e48",
   "metadata": {},
   "outputs": [
    {
     "data": {
      "text/plain": [
       "False"
      ]
     },
     "execution_count": 2,
     "metadata": {},
     "output_type": "execute_result"
    }
   ],
   "source": [
    "False"
   ]
  },
  {
   "cell_type": "code",
   "execution_count": 3,
   "id": "71bb2ad2",
   "metadata": {},
   "outputs": [
    {
     "data": {
      "text/plain": [
       "bool"
      ]
     },
     "execution_count": 3,
     "metadata": {},
     "output_type": "execute_result"
    }
   ],
   "source": [
    "type(True)"
   ]
  },
  {
   "cell_type": "code",
   "execution_count": 4,
   "id": "0225f5a6",
   "metadata": {},
   "outputs": [
    {
     "data": {
      "text/plain": [
       "bool"
      ]
     },
     "execution_count": 4,
     "metadata": {},
     "output_type": "execute_result"
    }
   ],
   "source": [
    "type(False)"
   ]
  },
  {
   "cell_type": "markdown",
   "id": "20f0ccb3",
   "metadata": {},
   "source": [
    "____________________________________________________________________________________"
   ]
  },
  {
   "cell_type": "markdown",
   "id": "e51d2f2a",
   "metadata": {},
   "source": [
    "**2. What are the three different types of Boolean operators?**"
   ]
  },
  {
   "cell_type": "markdown",
   "id": "c72f9d14",
   "metadata": {},
   "source": [
    "The three differnt types of Boolean operators in python are:  **and**,**or**, **not**.These are used as it is . **and** gives us True as an output when all the condition will be true meanwhile **or** gives us True as an output when any of condition is true and **not** gives us true output when the conditions attaching with **not** is false and vice varsa."
   ]
  },
  {
   "cell_type": "code",
   "execution_count": 5,
   "id": "e45dda2c",
   "metadata": {},
   "outputs": [
    {
     "data": {
      "text/plain": [
       "True"
      ]
     },
     "execution_count": 5,
     "metadata": {},
     "output_type": "execute_result"
    }
   ],
   "source": [
    "x,y=4,2\n",
    "x>1 and y<10             # here both the conditions are correct"
   ]
  },
  {
   "cell_type": "code",
   "execution_count": 6,
   "id": "130702c3",
   "metadata": {},
   "outputs": [
    {
     "data": {
      "text/plain": [
       "True"
      ]
     },
     "execution_count": 6,
     "metadata": {},
     "output_type": "execute_result"
    }
   ],
   "source": [
    "x>1 or y>40              # here one condition is correct "
   ]
  },
  {
   "cell_type": "code",
   "execution_count": 7,
   "id": "11bec5f8",
   "metadata": {},
   "outputs": [
    {
     "data": {
      "text/plain": [
       "True"
      ]
     },
     "execution_count": 7,
     "metadata": {},
     "output_type": "execute_result"
    }
   ],
   "source": [
    "not(x<2)                # here the condition is false"
   ]
  },
  {
   "cell_type": "code",
   "execution_count": 8,
   "id": "90b08c92",
   "metadata": {},
   "outputs": [
    {
     "data": {
      "text/plain": [
       "False"
      ]
     },
     "execution_count": 8,
     "metadata": {},
     "output_type": "execute_result"
    }
   ],
   "source": [
    "not(y<10)              # here the condition is true "
   ]
  },
  {
   "cell_type": "markdown",
   "id": "b82470e1",
   "metadata": {},
   "source": [
    "_______________________________________________________"
   ]
  },
  {
   "cell_type": "markdown",
   "id": "96eb1ee7",
   "metadata": {},
   "source": [
    "**3. Make a list of each Boolean operator&#39;s truth tables (i.e. every possible combination of Boolean\n",
    "values for the operator and what it evaluate ).**"
   ]
  },
  {
   "cell_type": "markdown",
   "id": "c3e0f64b",
   "metadata": {},
   "source": [
    "**Ans:** The Truth tables for the boolean tables are as follows:\n",
    "\n",
    "- Truth Table for and operaotor\n",
    "    - True and True is True\n",
    "    - True and False is False\n",
    "    - False and True is False\n",
    "    - False and False is False </br></br>\n",
    "\n",
    "- Truth Table for or operaotor\n",
    "    - True and True is True\n",
    "    - True and False is True\n",
    "    - False and True is True\n",
    "    - False and False is False </br></br>\n",
    "\n",
    "- Truth Table for not operaotor\n",
    "  - True not is False False not is True"
   ]
  },
  {
   "cell_type": "markdown",
   "id": "88bd9342",
   "metadata": {},
   "source": [
    "______________________________________________________"
   ]
  },
  {
   "cell_type": "markdown",
   "id": "074a6917",
   "metadata": {},
   "source": [
    "**4. What are the values of the following expressions?**\n",
    "- **(5 &gt; 4) and (3 == 5)**\n",
    "- **not (5 &gt; 4)**\n",
    "- **(5 &gt; 4) or (3 == 5)**\n",
    "- **not ((5 &gt; 4) or (3 == 5))**\n",
    "- **(True and True) and (True == False)**\n",
    "- **(not False) or (not True)**"
   ]
  },
  {
   "cell_type": "markdown",
   "id": "c9e837f6",
   "metadata": {},
   "source": [
    "**Ans :**\n",
    "- (5 &gt; 4) and (3 == 5)-------------> False\n",
    "- not (5 &gt; 4)----------------------> False\n",
    "- (5 &gt; 4) or (3 == 5)--------------> True\n",
    "- not ((5 &gt; 4) or (3 == 5)---------> False\n",
    "- (True and True) and (True == False)-> False\n",
    "- (not False) or (not True)-----------> True"
   ]
  },
  {
   "cell_type": "markdown",
   "id": "c5ea7361",
   "metadata": {},
   "source": [
    "_______________________________________________________"
   ]
  },
  {
   "cell_type": "markdown",
   "id": "8e20c7d6",
   "metadata": {},
   "source": [
    "**5. What are the six comparison operators?**"
   ]
  },
  {
   "cell_type": "markdown",
   "id": "55e6ff27",
   "metadata": {},
   "source": [
    "**Ans:**\n",
    "- The Six comparision operators available in python are:\n",
    "`==` , `!=` , `<` , `>` , `<=` , `=>`<br><br>\n",
    "- That means `equals to` ,`not equals to`,`less than`,`greater than`,`less than equals to` and `greater than equals to`."
   ]
  },
  {
   "cell_type": "markdown",
   "id": "5bea1685",
   "metadata": {},
   "source": [
    "__________________________________________________________"
   ]
  },
  {
   "cell_type": "markdown",
   "id": "f3fd7831",
   "metadata": {},
   "source": [
    "**6. How do you tell the difference between the equal to and assignment operators?Describe a\n",
    "condition and when you would use one.**"
   ]
  },
  {
   "cell_type": "markdown",
   "id": "11ccd31d",
   "metadata": {},
   "source": [
    "**Ans:**\n",
    "- `==` is the equal to operator that compares two values and evaluates to a Boolean, while`=` is that assignment operator that stores a value in a variable.<br><br>\n",
    "- for example we can say that \n",
    "    - `x=5`\n",
    "        - that means x stores the value 5.\n",
    "    - `3==5`\n",
    "        - that means we are checking the comparison between 3 and 5. Obiously the result should be True or False .That is boolean. for our case it is false."
   ]
  },
  {
   "cell_type": "markdown",
   "id": "30887eda",
   "metadata": {},
   "source": [
    "___________________________________________________________"
   ]
  },
  {
   "cell_type": "markdown",
   "id": "62707ed5",
   "metadata": {},
   "source": [
    "**7. Identify the three blocks in this code:**<br>\n",
    "spam = 0<br>\n",
    "if spam == 10:<br>\n",
    "print(&#39;eggs&#39;)<br>\n",
    "if spam &gt; 5:<br>\n",
    "print(&#39;bacon&#39;)<br>\n",
    "else:<br>\n",
    "print(&#39;ham&#39;)<br>\n",
    "print(&#39;spam&#39;)<br>\n",
    "print(&#39;spam&#39;)<br>"
   ]
  },
  {
   "cell_type": "markdown",
   "id": "f58e39c7",
   "metadata": {},
   "source": [
    "**Ans:**<br>\n",
    "- In Python, code block refers to a collection of code that is in the same block or indent. This is most commonly found in classes, functions, and loops.And it checks the truthness of the condition depending on which it is decided that perticular code should run or not .<br><br>\n",
    "- Here our first condition is false as as spam!=10 ,so the execution part goes to the next block and here also the condition is wrong.so it goes to the next block and print these three string `ham`,`spam`,`spam`.\n"
   ]
  },
  {
   "cell_type": "markdown",
   "id": "3d1887e8",
   "metadata": {},
   "source": [
    "____________________________________________________________________________"
   ]
  },
  {
   "cell_type": "markdown",
   "id": "6b22bf45",
   "metadata": {},
   "source": [
    "**8. Write code that prints Hello if 1 is stored in spam, prints Howdy if 2 is stored in spam, and prints\n",
    "Greetings! if anything else is stored in spam.**"
   ]
  },
  {
   "cell_type": "code",
   "execution_count": 12,
   "id": "8278c594",
   "metadata": {},
   "outputs": [],
   "source": [
    "def check_spam(spam):\n",
    "    if spam==1:\n",
    "        print('Hello')\n",
    "    elif spam==2:\n",
    "        print('Howdy')\n",
    "    else:\n",
    "        print('Greetings')"
   ]
  },
  {
   "cell_type": "code",
   "execution_count": 13,
   "id": "1d2097e6",
   "metadata": {},
   "outputs": [
    {
     "name": "stdout",
     "output_type": "stream",
     "text": [
      "Hello\n"
     ]
    }
   ],
   "source": [
    "check_spam(1)"
   ]
  },
  {
   "cell_type": "code",
   "execution_count": 14,
   "id": "75d7e4d7",
   "metadata": {},
   "outputs": [
    {
     "name": "stdout",
     "output_type": "stream",
     "text": [
      "Howdy\n"
     ]
    }
   ],
   "source": [
    "check_spam(2)"
   ]
  },
  {
   "cell_type": "code",
   "execution_count": 15,
   "id": "583538a0",
   "metadata": {},
   "outputs": [
    {
     "name": "stdout",
     "output_type": "stream",
     "text": [
      "Greetings\n"
     ]
    }
   ],
   "source": [
    "check_spam('hihihihih')"
   ]
  },
  {
   "cell_type": "markdown",
   "id": "0fdb81aa",
   "metadata": {},
   "source": [
    "_______________________________________________________________________"
   ]
  },
  {
   "cell_type": "markdown",
   "id": "74292d65",
   "metadata": {},
   "source": [
    "**9.If your programme is stuck in an endless loop, what keys you’ll press?**"
   ]
  },
  {
   "cell_type": "markdown",
   "id": "1afb617b",
   "metadata": {},
   "source": [
    "I will press `Ctrl+c` to get out from the infinity loop."
   ]
  },
  {
   "cell_type": "markdown",
   "id": "646fab29",
   "metadata": {},
   "source": [
    "___________________________________________________"
   ]
  },
  {
   "cell_type": "markdown",
   "id": "92301280",
   "metadata": {},
   "source": [
    "**10. How can you tell the difference between break and continue?**"
   ]
  },
  {
   "cell_type": "markdown",
   "id": "f315e09d",
   "metadata": {},
   "source": [
    "**Ans:**\n",
    "- The `break` statement will move the execution outside the loop if break condition is satisfied.<br> \n",
    "- The `continue` statement will move the execution to the start of the loop when the condition is satisfied."
   ]
  },
  {
   "cell_type": "markdown",
   "id": "d26e1320",
   "metadata": {},
   "source": [
    "___________________________________________________________________"
   ]
  },
  {
   "cell_type": "markdown",
   "id": "7c198c30",
   "metadata": {},
   "source": [
    "**11. In a for loop, what is the difference between range(10), range(0, 10), and range(0, 10, 1)?**"
   ]
  },
  {
   "cell_type": "markdown",
   "id": "e0ac6cc8",
   "metadata": {},
   "source": [
    "**Ans :**<br>\n",
    "- The range(10) call range from 0 to 9 but not include 10.\n",
    "- The range (0,10) is doing the same by default but it explicitly tells the loop to start at 0.\n",
    "- The range(0,10,1) is also doing the same by default but it explicitly tells the loop to increase the variable by 1 on each iteration"
   ]
  },
  {
   "cell_type": "markdown",
   "id": "aae18729",
   "metadata": {},
   "source": [
    "______________________________________________________________________________"
   ]
  },
  {
   "cell_type": "markdown",
   "id": "b979226d",
   "metadata": {},
   "source": [
    "**12. Write a short program that prints the numbers 1 to 10 using a for loop. Then write an equivalent\n",
    "program that prints the numbers 1 to 10 using a while loop.**"
   ]
  },
  {
   "cell_type": "code",
   "execution_count": 23,
   "id": "642b39b5",
   "metadata": {},
   "outputs": [
    {
     "name": "stdout",
     "output_type": "stream",
     "text": [
      "1 2 3 4 5 6 7 8 9 10 "
     ]
    }
   ],
   "source": [
    "# using for loop\n",
    "for i in range(1,11):\n",
    "    print(i,end=' ')"
   ]
  },
  {
   "cell_type": "code",
   "execution_count": 22,
   "id": "38bce5b7",
   "metadata": {},
   "outputs": [
    {
     "name": "stdout",
     "output_type": "stream",
     "text": [
      "1 2 3 4 5 6 7 8 9 10 "
     ]
    }
   ],
   "source": [
    "# using while loop:\n",
    "i=1 # initialized the value\n",
    "while i<11:\n",
    "    print(i,end=' ')\n",
    "    i+=1"
   ]
  },
  {
   "cell_type": "markdown",
   "id": "a380196a",
   "metadata": {},
   "source": [
    "______________________________________________________________"
   ]
  },
  {
   "cell_type": "markdown",
   "id": "33debc8b",
   "metadata": {},
   "source": [
    "**13. If you had a function named bacon() inside a module named spam, how would you call it after\n",
    "importing spam?**"
   ]
  },
  {
   "cell_type": "markdown",
   "id": "866e30f8",
   "metadata": {},
   "source": [
    "I will call it by `spam.bacon()` after importing."
   ]
  },
  {
   "cell_type": "markdown",
   "id": "1443efc2",
   "metadata": {},
   "source": [
    "_______________________________________________________________"
   ]
  },
  {
   "cell_type": "markdown",
   "id": "9ae40446",
   "metadata": {},
   "source": [
    "**_________________The End__________________________**"
   ]
  }
 ],
 "metadata": {
  "kernelspec": {
   "display_name": "Python 3 (ipykernel)",
   "language": "python",
   "name": "python3"
  },
  "language_info": {
   "codemirror_mode": {
    "name": "ipython",
    "version": 3
   },
   "file_extension": ".py",
   "mimetype": "text/x-python",
   "name": "python",
   "nbconvert_exporter": "python",
   "pygments_lexer": "ipython3",
   "version": "3.9.13"
  }
 },
 "nbformat": 4,
 "nbformat_minor": 5
}
